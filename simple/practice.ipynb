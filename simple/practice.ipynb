{
 "cells": [
  {
   "cell_type": "code",
   "execution_count": 18,
   "metadata": {},
   "outputs": [
    {
     "name": "stdout",
     "output_type": "stream",
     "text": [
      "J\n",
      "Y\n",
      "O\n",
      "T\n",
      "H\n",
      "I\n",
      "K\n",
      "A\n"
     ]
    }
   ],
   "source": [
    "#name\n",
    "name = \"JYOTHIKA\"\n",
    "index = 0\n",
    "\n",
    "while index < len(name):\n",
    "    print(name[index])\n",
    "    index += 1\n"
   ]
  },
  {
   "cell_type": "code",
   "execution_count": 19,
   "metadata": {},
   "outputs": [
    {
     "name": "stdout",
     "output_type": "stream",
     "text": [
      "720\n"
     ]
    }
   ],
   "source": [
    "#num multiplication\n",
    "n=123456\n",
    "res=1\n",
    "while n:\n",
    "    ld=n%10\n",
    "    res*=ld\n",
    "    n=n//10\n",
    "print(res)\n"
   ]
  },
  {
   "cell_type": "code",
   "execution_count": 22,
   "metadata": {},
   "outputs": [
    {
     "name": "stdout",
     "output_type": "stream",
     "text": [
      "-21\n"
     ]
    }
   ],
   "source": [
    "#difference of digits\n",
    "n=123456\n",
    "res=0\n",
    "while n:\n",
    "    ld=n%10\n",
    "    res-=ld\n",
    "    n=n//10\n",
    "print(res)"
   ]
  },
  {
   "cell_type": "code",
   "execution_count": 23,
   "metadata": {},
   "outputs": [
    {
     "name": "stdout",
     "output_type": "stream",
     "text": [
      "16\n"
     ]
    }
   ],
   "source": [
    "#sum of odd digits\n",
    "n=12345678\n",
    "res=0\n",
    "while n:\n",
    "    ld=n%10\n",
    "    if ld%2!=0:\n",
    "        res+=ld\n",
    "    n=n//10\n",
    "print(res)"
   ]
  },
  {
   "cell_type": "code",
   "execution_count": 25,
   "metadata": {},
   "outputs": [
    {
     "name": "stdout",
     "output_type": "stream",
     "text": [
      "120\n"
     ]
    }
   ],
   "source": [
    "# factorial\n",
    "m=5\n",
    "n=1\n",
    "res=1\n",
    "while m>n:\n",
    "    res*=m\n",
    "    m-=1\n",
    "print(res)\n"
   ]
  },
  {
   "cell_type": "code",
   "execution_count": 7,
   "metadata": {},
   "outputs": [
    {
     "name": "stdout",
     "output_type": "stream",
     "text": [
      "153\n",
      "not a strong number\n"
     ]
    }
   ],
   "source": [
    "#strong number\n",
    "n=145\n",
    "temp=n\n",
    "sum=0\n",
    "while n:\n",
    "    ld=n%10\n",
    "    i=1\n",
    "    prod=1\n",
    "    while i<=ld:\n",
    "        prod*=i\n",
    "        i+=1\n",
    "        sum+=prod\n",
    "        n=n//10\n",
    "print(sum)\n",
    "if sum==temp:\n",
    "        print('strong number')\n",
    "else:\n",
    "        print('not a strong number')\n",
    "\n",
    "\n"
   ]
  },
  {
   "cell_type": "code",
   "execution_count": 9,
   "metadata": {},
   "outputs": [
    {
     "name": "stdout",
     "output_type": "stream",
     "text": [
      "121\n",
      "palindrome\n"
     ]
    }
   ],
   "source": [
    "#palindrome\n",
    "n=121\n",
    "temp=n\n",
    "rev=0\n",
    "while n:\n",
    "    ld=n%10\n",
    "    rev=(rev*10)+ld\n",
    "    n=n//10\n",
    "print(rev)\n",
    "if rev==temp:\n",
    "    print('palindrome')\n",
    "else:\n",
    "    print('not')\n",
    "    \n"
   ]
  },
  {
   "cell_type": "code",
   "execution_count": 12,
   "metadata": {},
   "outputs": [
    {
     "name": "stdout",
     "output_type": "stream",
     "text": [
      "1\n",
      "2\n",
      "3\n",
      "5\n",
      "8\n"
     ]
    }
   ],
   "source": [
    "#fibonacci\n",
    "a=0\n",
    "b=1\n",
    "n=5\n",
    "i=1\n",
    "while i<=n:\n",
    "    c=a+b\n",
    "    print(c)\n",
    "    a,b=b,c\n",
    "    i+=1\n",
    "\n"
   ]
  }
 ],
 "metadata": {
  "kernelspec": {
   "display_name": "Python 3",
   "language": "python",
   "name": "python3"
  },
  "language_info": {
   "codemirror_mode": {
    "name": "ipython",
    "version": 3
   },
   "file_extension": ".py",
   "mimetype": "text/x-python",
   "name": "python",
   "nbconvert_exporter": "python",
   "pygments_lexer": "ipython3",
   "version": "3.11.4"
  },
  "orig_nbformat": 4
 },
 "nbformat": 4,
 "nbformat_minor": 2
}
