{
 "cells": [
  {
   "cell_type": "code",
   "execution_count": 18,
   "metadata": {},
   "outputs": [
    {
     "name": "stdout",
     "output_type": "stream",
     "text": [
      "J\n",
      "Y\n",
      "O\n",
      "T\n",
      "H\n",
      "I\n",
      "K\n",
      "A\n"
     ]
    }
   ],
   "source": [
    "#name\n",
    "name = \"JYOTHIKA\"\n",
    "index = 0\n",
    "\n",
    "while index < len(name):\n",
    "    print(name[index])\n",
    "    index += 1\n"
   ]
  },
  {
   "cell_type": "code",
   "execution_count": 19,
   "metadata": {},
   "outputs": [
    {
     "name": "stdout",
     "output_type": "stream",
     "text": [
      "720\n"
     ]
    }
   ],
   "source": [
    "#num multiplication\n",
    "n=123456\n",
    "res=1\n",
    "while n:\n",
    "    ld=n%10\n",
    "    res*=ld\n",
    "    n=n//10\n",
    "print(res)\n"
   ]
  },
  {
   "cell_type": "code",
   "execution_count": 22,
   "metadata": {},
   "outputs": [
    {
     "name": "stdout",
     "output_type": "stream",
     "text": [
      "-21\n"
     ]
    }
   ],
   "source": [
    "#difference of digits\n",
    "n=123456\n",
    "res=0\n",
    "while n:\n",
    "    ld=n%10\n",
    "    res-=ld\n",
    "    n=n//10\n",
    "print(res)"
   ]
  },
  {
   "cell_type": "code",
   "execution_count": 23,
   "metadata": {},
   "outputs": [
    {
     "name": "stdout",
     "output_type": "stream",
     "text": [
      "16\n"
     ]
    }
   ],
   "source": [
    "#sum of odd digits\n",
    "n=12345678\n",
    "res=0\n",
    "while n:\n",
    "    ld=n%10\n",
    "    if ld%2!=0:\n",
    "        res+=ld\n",
    "    n=n//10\n",
    "print(res)"
   ]
  },
  {
   "cell_type": "code",
   "execution_count": 25,
   "metadata": {},
   "outputs": [
    {
     "name": "stdout",
     "output_type": "stream",
     "text": [
      "120\n"
     ]
    }
   ],
   "source": [
    "# factorial\n",
    "m=5\n",
    "n=1\n",
    "res=1\n",
    "while m>n:\n",
    "    res*=m\n",
    "    m-=1\n",
    "print(res)\n"
   ]
  },
  {
   "cell_type": "code",
   "execution_count": 9,
   "metadata": {},
   "outputs": [
    {
     "name": "stdout",
     "output_type": "stream",
     "text": [
      "121\n",
      "palindrome\n"
     ]
    }
   ],
   "source": [
    "#palindrome\n",
    "n=121\n",
    "temp=n\n",
    "rev=0\n",
    "while n:\n",
    "    ld=n%10\n",
    "    rev=(rev*10)+ld\n",
    "    n=n//10\n",
    "print(rev)\n",
    "if rev==temp:\n",
    "    print('palindrome')\n",
    "else:\n",
    "    print('not')\n",
    "    \n"
   ]
  },
  {
   "cell_type": "code",
   "execution_count": 7,
   "metadata": {},
   "outputs": [
    {
     "name": "stdout",
     "output_type": "stream",
     "text": [
      "0\n",
      "1\n",
      "1\n",
      "2\n",
      "3\n",
      "5\n",
      "8\n"
     ]
    }
   ],
   "source": [
    "#fibonacci\n",
    "a=0\n",
    "b=1\n",
    "print(a)\n",
    "print(b)\n",
    "n=5\n",
    "while n:\n",
    "    c=a+b\n",
    "    print(c)\n",
    "    a,b=b,c\n",
    "    n-=1\n",
    "\n"
   ]
  },
  {
   "cell_type": "code",
   "execution_count": 4,
   "metadata": {},
   "outputs": [
    {
     "name": "stdout",
     "output_type": "stream",
     "text": [
      "1 -> 1\n",
      "2 -> 2\n",
      "3 -> 6\n",
      "4 -> 24\n",
      "5 -> 120\n",
      "6 -> 720\n",
      "7 -> 5040\n",
      "8 -> 40320\n",
      "9 -> 362880\n",
      "10 -> 3628800\n"
     ]
    }
   ],
   "source": [
    "#factorial from 1 to 10\n",
    "a=1\n",
    "b=10\n",
    "while a<=b:\n",
    "    x=1\n",
    "    y=a\n",
    "    fact=1\n",
    "    while x<=y:\n",
    "        fact*=x\n",
    "        x+=1\n",
    "    print(a,\"->\",fact)\n",
    "    a+=1\n"
   ]
  },
  {
   "cell_type": "code",
   "execution_count": 33,
   "metadata": {},
   "outputs": [
    {
     "name": "stdout",
     "output_type": "stream",
     "text": [
      "145\n",
      "strong number\n"
     ]
    }
   ],
   "source": [
    "#strong number\n",
    "n=145\n",
    "temp=n\n",
    "sum=0\n",
    "while n:\n",
    "    ld=n%10\n",
    "    i=1\n",
    "    prod=1\n",
    "    while i<=ld:\n",
    "        prod*=i\n",
    "        i+=1\n",
    "    sum+=prod\n",
    "    n=n//10\n",
    "print(sum)\n",
    "if sum==temp:\n",
    "    print('strong number')\n",
    "    \n",
    "    \n",
    "\n",
    "        "
   ]
  },
  {
   "cell_type": "code",
   "execution_count": 23,
   "metadata": {},
   "outputs": [],
   "source": [
    "m=1\n",
    "n=100\n",
    "while m<=n:\n",
    "    count=0\n",
    "    new=n\n",
    "    x=1\n",
    "    while x<=new:\n",
    "        if new%x==0:\n",
    "            count+=1\n",
    "        x+=1\n",
    "    if count==2:\n",
    "        print(new)\n",
    "    m+=1"
   ]
  },
  {
   "cell_type": "code",
   "execution_count": 37,
   "metadata": {},
   "outputs": [
    {
     "name": "stdout",
     "output_type": "stream",
     "text": [
      "2\n",
      "3\n",
      "4\n",
      "5\n",
      "6\n",
      "7\n",
      "8\n",
      "9\n",
      "10\n"
     ]
    }
   ],
   "source": [
    "m=1\n",
    "n=10\n",
    "while m<n:\n",
    "    m+=1\n",
    "    print(m)"
   ]
  },
  {
   "cell_type": "code",
   "execution_count": null,
   "metadata": {},
   "outputs": [],
   "source": [
    "#series of strong numbers\n",
    "n=145\n",
    "sum=0\n",
    "while n:\n",
    "    ld=n%10\n",
    "    i=1\n",
    "    prod=1\n",
    "    while i<=ld:\n",
    "        prod*=i\n",
    "        i+=1\n",
    "        sum+=prod\n",
    "        n=n//10\n",
    "    print(sum)\n",
    "\n",
    "\n"
   ]
  },
  {
   "cell_type": "code",
   "execution_count": 23,
   "metadata": {},
   "outputs": [
    {
     "name": "stdout",
     "output_type": "stream",
     "text": [
      "spy\n"
     ]
    }
   ],
   "source": [
    "#spy\n",
    "n=1124\n",
    "sum=0\n",
    "prod=1\n",
    "while n:\n",
    "    ld=n%10\n",
    "    sum+=ld\n",
    "    prod*=ld\n",
    "    n=n//10\n",
    "\n",
    "if sum==prod:\n",
    "        print('spy')\n",
    "else:\n",
    "        print('not')\n"
   ]
  },
  {
   "cell_type": "code",
   "execution_count": 24,
   "metadata": {},
   "outputs": [
    {
     "name": "stdout",
     "output_type": "stream",
     "text": [
      "1\n",
      "2\n",
      "3\n",
      "4\n",
      "5\n",
      "6\n",
      "7\n",
      "8\n",
      "9\n",
      "22\n",
      "123\n",
      "132\n",
      "213\n",
      "231\n",
      "312\n",
      "321\n",
      "1124\n",
      "1142\n",
      "1214\n",
      "1241\n",
      "1412\n",
      "1421\n"
     ]
    }
   ],
   "source": [
    "#series of spy number\n",
    "start=1\n",
    "end=2000\n",
    "while start<=end:\n",
    "    sum=0\n",
    "    prod=1\n",
    "    n=start\n",
    "    temp=n\n",
    "    while n:\n",
    "        ld=n%10\n",
    "        sum+=ld\n",
    "        prod*=ld\n",
    "        n=n//10\n",
    "    if sum==prod:\n",
    "        print(temp)\n",
    "    start+=1\n"
   ]
  },
  {
   "cell_type": "code",
   "execution_count": 29,
   "metadata": {},
   "outputs": [
    {
     "name": "stdout",
     "output_type": "stream",
     "text": [
      "341\n"
     ]
    }
   ],
   "source": [
    "#palindrome\n",
    "n=143\n",
    "rev=0\n",
    "while n:\n",
    "    ld=n%10\n",
    "    rev=(rev*10)+ld\n",
    "    n=n//10\n",
    "print(rev)\n"
   ]
  },
  {
   "cell_type": "code",
   "execution_count": 56,
   "metadata": {},
   "outputs": [
    {
     "name": "stdout",
     "output_type": "stream",
     "text": [
      "1\n",
      "2\n",
      "3\n",
      "4\n",
      "5\n",
      "6\n",
      "7\n",
      "8\n",
      "9\n",
      "11\n",
      "22\n",
      "33\n",
      "44\n",
      "55\n",
      "66\n",
      "77\n",
      "88\n",
      "99\n",
      "101\n",
      "111\n",
      "121\n",
      "131\n",
      "141\n",
      "151\n",
      "161\n",
      "171\n",
      "181\n",
      "191\n"
     ]
    }
   ],
   "source": [
    "#series of palindrome\n",
    "start=1\n",
    "end=200\n",
    "while start<=end:\n",
    "    n=start\n",
    "    temp=n\n",
    "    rev=0\n",
    "    while n:\n",
    "        ld=n%10\n",
    "        rev=(rev*10)+ld\n",
    "        n=n//10\n",
    "    if rev==temp:\n",
    "        print(rev)\n",
    "    start+=1\n",
    "    "
   ]
  },
  {
   "cell_type": "code",
   "execution_count": null,
   "metadata": {},
   "outputs": [],
   "source": [
    "#extract middle digit\n",
    "n=123456\n"
   ]
  },
  {
   "cell_type": "code",
   "execution_count": 58,
   "metadata": {},
   "outputs": [
    {
     "name": "stdout",
     "output_type": "stream",
     "text": [
      "2\n",
      "3\n",
      "5\n",
      "7\n",
      "11\n",
      "13\n",
      "17\n",
      "19\n",
      "23\n",
      "29\n",
      "31\n",
      "37\n",
      "41\n",
      "43\n",
      "47\n",
      "53\n",
      "59\n",
      "61\n",
      "67\n",
      "71\n",
      "73\n",
      "79\n",
      "83\n",
      "89\n",
      "97\n"
     ]
    }
   ],
   "source": [
    "#series of prime numbers\n",
    "start=1\n",
    "end=100\n",
    "while start<=end:\n",
    "    n=start\n",
    "    count=0\n",
    "    i=1\n",
    "    while i<=n:\n",
    "        if n%i==0:\n",
    "            count+=1\n",
    "        i+=1\n",
    "    if count==2:\n",
    "        print(n)\n",
    "    start+=1\n",
    "    \n"
   ]
  },
  {
   "cell_type": "code",
   "execution_count": 8,
   "metadata": {},
   "outputs": [
    {
     "name": "stdout",
     "output_type": "stream",
     "text": [
      "J\n",
      "Y\n",
      "O\n",
      "T\n",
      "H\n",
      "I\n",
      "K\n",
      "A\n"
     ]
    }
   ],
   "source": [
    "# collection programs\n",
    "n='JYOTHIKA'\n",
    "i=0\n",
    "while i<len(n):\n",
    "    print(n[i])\n",
    "    i+=1"
   ]
  },
  {
   "cell_type": "code",
   "execution_count": 13,
   "metadata": {},
   "outputs": [
    {
     "name": "stdout",
     "output_type": "stream",
     "text": [
      "J\n",
      "A\n"
     ]
    }
   ],
   "source": [
    "#identify uppercase\n",
    "ch='JyothikA'\n",
    "i=0\n",
    "while i<len(ch):\n",
    "    if 'A'<=ch[i]<='Z':\n",
    "        print(ch[i])\n",
    "    i+=1"
   ]
  },
  {
   "cell_type": "code",
   "execution_count": 14,
   "metadata": {},
   "outputs": [
    {
     "name": "stdout",
     "output_type": "stream",
     "text": [
      "@\n",
      "$\n"
     ]
    }
   ],
   "source": [
    "# special character or not\n",
    "ch='Jyothi@12$'\n",
    "i=0\n",
    "while i<len(ch):\n",
    "    if not('A'<=ch[i]<='Z' or 'a'<=ch[i]<='z' or '0'<=ch[i]<='9'):\n",
    "        print(ch[i])\n",
    "    i+=1"
   ]
  },
  {
   "cell_type": "code",
   "execution_count": 15,
   "metadata": {},
   "outputs": [
    {
     "name": "stdout",
     "output_type": "stream",
     "text": [
      "y\n",
      "o\n",
      "t\n",
      "h\n",
      "i\n",
      "k\n"
     ]
    }
   ],
   "source": [
    "#identify lowercase\n",
    "ch='JyothikA'\n",
    "i=0\n",
    "while i<len(ch):\n",
    "    if 'a'<=ch[i]<='z':\n",
    "        print(ch[i])\n",
    "    i+=1"
   ]
  },
  {
   "cell_type": "code",
   "execution_count": 18,
   "metadata": {},
   "outputs": [
    {
     "name": "stdout",
     "output_type": "stream",
     "text": [
      "a\n",
      "k\n",
      "i\n",
      "h\n",
      "t\n",
      "o\n",
      "y\n",
      "j\n"
     ]
    }
   ],
   "source": [
    "# reverse string\n",
    "ch='jyothika'\n",
    "i=-1\n",
    "while i>=-(len(ch)):\n",
    "    print(ch[i])\n",
    "    i-=1\n",
    "\n",
    "\n"
   ]
  },
  {
   "cell_type": "code",
   "execution_count": 19,
   "metadata": {},
   "outputs": [
    {
     "name": "stdout",
     "output_type": "stream",
     "text": [
      "a -1\n",
      "k -2\n",
      "i -3\n",
      "h -4\n",
      "t -5\n",
      "o -6\n",
      "y -7\n",
      "j -8\n"
     ]
    }
   ],
   "source": [
    "#along with indexing values\n",
    "ch='jyothika'\n",
    "i=-1\n",
    "while i>=-(len(ch)):\n",
    "    print(ch[i],i)\n",
    "    i-=1"
   ]
  },
  {
   "cell_type": "code",
   "execution_count": 20,
   "metadata": {},
   "outputs": [
    {
     "name": "stdout",
     "output_type": "stream",
     "text": [
      "j 0 -8\n",
      "y 1 -7\n",
      "o 2 -6\n",
      "t 3 -5\n",
      "h 4 -4\n",
      "i 5 -3\n",
      "k 6 -2\n",
      "a 7 -1\n"
     ]
    }
   ],
   "source": [
    "#positive and negative indexing values\n",
    "ch='jyothika'\n",
    "i=0\n",
    "ni=-len(ch)\n",
    "while i<len(ch):\n",
    "    print(ch[i],i,ni)\n",
    "    i+=1\n",
    "    ni+=1"
   ]
  },
  {
   "cell_type": "code",
   "execution_count": 5,
   "metadata": {},
   "outputs": [
    {
     "name": "stdout",
     "output_type": "stream",
     "text": [
      "21\n",
      "3\n",
      "3\n"
     ]
    }
   ],
   "source": [
    "#sum of the digits\n",
    "n=123456\n",
    "while n>9:\n",
    "    sum=0\n",
    "    while n:\n",
    "        ld=n%10\n",
    "        sum+=ld\n",
    "        n=n//10\n",
    "    print(sum)\n",
    "    n=sum\n",
    "print(sum)\n",
    "\n"
   ]
  },
  {
   "cell_type": "code",
   "execution_count": 11,
   "metadata": {},
   "outputs": [
    {
     "name": "stdout",
     "output_type": "stream",
     "text": [
      "31\n",
      "4\n",
      "4\n"
     ]
    }
   ],
   "source": [
    "n=146578\n",
    "while n>9:\n",
    "    sum=0\n",
    "    while n:\n",
    "        ld=n%10\n",
    "        sum+=ld\n",
    "        n=n//10\n",
    "    print(sum)\n",
    "    n=sum\n",
    "print(n)\n"
   ]
  },
  {
   "cell_type": "code",
   "execution_count": 13,
   "metadata": {},
   "outputs": [
    {
     "name": "stdout",
     "output_type": "stream",
     "text": [
      "21\n",
      "3\n",
      "3\n"
     ]
    }
   ],
   "source": [
    "n=123456\n",
    "while n>9:\n",
    "    sum=0\n",
    "    while n:\n",
    "       ld=n%10\n",
    "       sum+=ld\n",
    "       n=n//10\n",
    "    print(sum)\n",
    "    n=sum\n",
    "print(sum)\n",
    "\n",
    "\n",
    "\n"
   ]
  },
  {
   "cell_type": "code",
   "execution_count": null,
   "metadata": {},
   "outputs": [],
   "source": [
    "m='hello world @123'\n"
   ]
  },
  {
   "cell_type": "code",
   "execution_count": 22,
   "metadata": {},
   "outputs": [
    {
     "name": "stdout",
     "output_type": "stream",
     "text": [
      "JKA\n"
     ]
    }
   ],
   "source": [
    "#print upper case\n",
    "ch='JyothiKA'\n",
    "index=0\n",
    "res=''\n",
    "while index<len(ch):\n",
    "    if 'A'<=ch[index]<='Z':\n",
    "        res+=ch[index]\n",
    "    index+=1\n",
    "print(res)\n",
    "\n"
   ]
  },
  {
   "cell_type": "code",
   "execution_count": null,
   "metadata": {},
   "outputs": [],
   "source": []
  },
  {
   "cell_type": "code",
   "execution_count": 14,
   "metadata": {},
   "outputs": [
    {
     "name": "stdout",
     "output_type": "stream",
     "text": [
      "8\n",
      "0\n"
     ]
    }
   ],
   "source": [
    "#middle digit in a given number\n",
    "n=12345678\n",
    "count=0\n",
    "temp=n\n",
    "while n:\n",
    "    count+=1\n",
    "    n=n//10\n",
    "print(count)\n",
    "while count:\n",
    "        temp=temp//10\n",
    "        count-=1\n",
    "        ld=temp//10\n",
    "print(ld)\n",
    "\n",
    "\n"
   ]
  }
 ],
 "metadata": {
  "kernelspec": {
   "display_name": "Python 3",
   "language": "python",
   "name": "python3"
  },
  "language_info": {
   "codemirror_mode": {
    "name": "ipython",
    "version": 3
   },
   "file_extension": ".py",
   "mimetype": "text/x-python",
   "name": "python",
   "nbconvert_exporter": "python",
   "pygments_lexer": "ipython3",
   "version": "3.11.4"
  },
  "orig_nbformat": 4
 },
 "nbformat": 4,
 "nbformat_minor": 2
}
