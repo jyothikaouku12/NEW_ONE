{
 "cells": [
  {
   "cell_type": "code",
   "execution_count": 16,
   "metadata": {},
   "outputs": [
    {
     "name": "stdout",
     "output_type": "stream",
     "text": [
      "jyothika\n"
     ]
    }
   ],
   "source": [
    "#100 upper to lower\n",
    "ch='JYOTHIKA'\n",
    "index=0\n",
    "res=''\n",
    "while index<len(ch):\n",
    "    if 'A'<=ch[index]<='Z':\n",
    "        res+=chr(ord(ch[index])+32)\n",
    "        index+=1\n",
    "print(res)"
   ]
  },
  {
   "cell_type": "code",
   "execution_count": 15,
   "metadata": {},
   "outputs": [
    {
     "name": "stdout",
     "output_type": "stream",
     "text": [
      "JYO\n"
     ]
    }
   ],
   "source": [
    "#101\n",
    "ch='jyo'\n",
    "index=0\n",
    "res=''\n",
    "while index<len(ch):\n",
    "    if 'a'<=ch[index]<='z':\n",
    "        res+=chr(ord(ch[index])-32)\n",
    "    index+=1\n",
    "print(res)\n"
   ]
  },
  {
   "cell_type": "code",
   "execution_count": 21,
   "metadata": {},
   "outputs": [
    {
     "name": "stdout",
     "output_type": "stream",
     "text": [
      "ytia\n"
     ]
    }
   ],
   "source": [
    "#102 upper to lower even posotion of string\n",
    "ch='JYOTHIKA'\n",
    "res=ch[1::2]\n",
    "new=''\n",
    "index=0\n",
    "while index<len(res):\n",
    "    if 'A'<=res[index]<='Z':\n",
    "        new+=chr(ord(res[index])+32)\n",
    "        index+=1\n",
    "print(new)\n"
   ]
  },
  {
   "cell_type": "code",
   "execution_count": 22,
   "metadata": {},
   "outputs": [
    {
     "name": "stdout",
     "output_type": "stream",
     "text": [
      "johk\n"
     ]
    }
   ],
   "source": [
    "#103 upper to lower in odd position\n",
    "ch='JYOTHIKA'\n",
    "res=ch[0::2]\n",
    "new=''\n",
    "index=0\n",
    "while index<len(res):\n",
    "    if 'A'<=res[index]<='Z':\n",
    "        new+=chr(ord(res[index])+32)\n",
    "        index+=1\n",
    "print(new)\n"
   ]
  },
  {
   "cell_type": "code",
   "execution_count": 46,
   "metadata": {},
   "outputs": [
    {
     "name": "stdout",
     "output_type": "stream",
     "text": [
      "jyot*hika\n"
     ]
    }
   ],
   "source": [
    "#104\n",
    "ch='JYOTHIKA@'\n",
    "new=''\n",
    "index=0\n",
    "while index<len(ch):\n",
    "    if 'A'<=ch[index]<='Z':\n",
    "        new+=chr(ord(ch[index])+32)\n",
    "    elif ch[index]=='@':\n",
    "        new+='*'\n",
    "    index+=1\n",
    "print(new)\n",
    "\n"
   ]
  },
  {
   "cell_type": "code",
   "execution_count": null,
   "metadata": {},
   "outputs": [],
   "source": [
    "#105 title case\n",
    "ch='jyothika'\n",
    "res=''\n",
    "index=0\n",
    "while index<len(ch):\n",
    "    if 'a'<=ch[0]<='z':\n",
    "        res+=chr(ord(ch[0])-32)\n",
    "    elif not('a'<=ch[index]<='z' or 'A'<=ch[index]<='Z' or '0'<=ch[index]<='9'):\n",
    "        "
   ]
  },
  {
   "cell_type": "code",
   "execution_count": 53,
   "metadata": {},
   "outputs": [
    {
     "name": "stdout",
     "output_type": "stream",
     "text": [
      "hello_world\n"
     ]
    }
   ],
   "source": [
    "#106 snake case\n",
    "ch='Hello world'\n",
    "res=''\n",
    "index=0\n",
    "while index<len(ch):\n",
    "    if 'A'<=ch[index]<='Z':\n",
    "        res+=chr(ord(ch[index])+32)\n",
    "    elif ch[index]==' ':\n",
    "        res+='_'\n",
    "    elif 'a'<=ch[index]<='z':\n",
    "        res+=ch[index]\n",
    "    \n",
    "    index+=1\n",
    "print(res)\n",
    "\n"
   ]
  },
  {
   "cell_type": "code",
   "execution_count": null,
   "metadata": {},
   "outputs": [],
   "source": [
    "#108"
   ]
  },
  {
   "cell_type": "code",
   "execution_count": 58,
   "metadata": {},
   "outputs": [
    {
     "name": "stdout",
     "output_type": "stream",
     "text": [
      "jy111th105k97\n"
     ]
    }
   ],
   "source": [
    "#108 vowel convert to ascii value\n",
    "ch='jyothika'\n",
    "temp=''\n",
    "index=0\n",
    "while index<len(ch):\n",
    "    if ch[index] in 'AEIOUaeiou':\n",
    "        temp+=str(ord(ch[index]))\n",
    "    else:\n",
    "        temp+=ch[index]\n",
    "    index+=1\n",
    "print(temp)\n"
   ]
  },
  {
   "cell_type": "code",
   "execution_count": 59,
   "metadata": {},
   "outputs": [
    {
     "name": "stdout",
     "output_type": "stream",
     "text": [
      "106121o116104i107a\n"
     ]
    }
   ],
   "source": [
    "#109 replace consonants with ascii values\n",
    "ch='jyothika'\n",
    "temp=''\n",
    "index=0\n",
    "while index<len(ch):\n",
    "    if ch[index] not in 'AEIOUaeiou':\n",
    "        temp+=str(ord(ch[index]))\n",
    "    else:\n",
    "        temp+=ch[index]\n",
    "    index+=1\n",
    "print(temp)"
   ]
  },
  {
   "cell_type": "code",
   "execution_count": 60,
   "metadata": {},
   "outputs": [
    {
     "name": "stdout",
     "output_type": "stream",
     "text": [
      "121116ia\n"
     ]
    }
   ],
   "source": [
    "#110  replace consonants with ascii values in odd places\n",
    "ch='jyothika'\n",
    "res=ch[1::2]\n",
    "temp=''\n",
    "index=0\n",
    "while index<len(res):\n",
    "    if res[index] not in 'AEIOUaeiou':\n",
    "        temp+=str(ord(res[index]))\n",
    "    else:\n",
    "        temp+=res[index]\n",
    "    index+=1\n",
    "print(temp)"
   ]
  },
  {
   "cell_type": "code",
   "execution_count": 61,
   "metadata": {},
   "outputs": [
    {
     "name": "stdout",
     "output_type": "stream",
     "text": [
      "111hk\n"
     ]
    }
   ],
   "source": [
    "#111  replace vowels with ascii values in even places\n",
    "ch='jyothika'\n",
    "res=ch[2::2]\n",
    "temp=''\n",
    "index=0\n",
    "while index<len(res):\n",
    "    if res[index]  in 'AEIOUaeiou':\n",
    "        temp+=str(ord(res[index]))\n",
    "    else:\n",
    "        temp+=res[index]\n",
    "    index+=1\n",
    "print(temp)"
   ]
  },
  {
   "cell_type": "code",
   "execution_count": 63,
   "metadata": {},
   "outputs": [
    {
     "name": "stdout",
     "output_type": "stream",
     "text": [
      "hello-world\n"
     ]
    }
   ],
   "source": [
    "#112\n",
    "ch='hello world'\n",
    "temp=''\n",
    "index=0\n",
    "while index<len(ch):\n",
    "    if ch[index]==' ':\n",
    "        temp+='-'\n",
    "    else:\n",
    "        temp+=ch[index]\n",
    "    index+=1\n",
    "print(temp)"
   ]
  },
  {
   "cell_type": "code",
   "execution_count": 64,
   "metadata": {},
   "outputs": [
    {
     "name": "stdout",
     "output_type": "stream",
     "text": [
      "JOHK\n"
     ]
    }
   ],
   "source": [
    "#113\n",
    "ch='JYOTHIKA'\n",
    "new=''\n",
    "res=ch[0::2]\n",
    "index=0\n",
    "while index<len(res):\n",
    "    new+=res[index]\n",
    "    index+=1\n",
    "print(new)\n",
    "    \n",
    "  "
   ]
  },
  {
   "cell_type": "code",
   "execution_count": 65,
   "metadata": {},
   "outputs": [
    {
     "name": "stdout",
     "output_type": "stream",
     "text": [
      "YTIA\n"
     ]
    }
   ],
   "source": [
    "#114\n",
    "ch='JYOTHIKA'\n",
    "new=''\n",
    "res=ch[1::2]\n",
    "index=0\n",
    "while index<len(res):\n",
    "    new+=res[index]\n",
    "    index+=1\n",
    "print(new)"
   ]
  },
  {
   "cell_type": "code",
   "execution_count": 67,
   "metadata": {},
   "outputs": [
    {
     "name": "stdout",
     "output_type": "stream",
     "text": [
      "12345\n"
     ]
    }
   ],
   "source": [
    "#115 print only numbers\n",
    "ch='JYOTHIKA12345'\n",
    "new=''\n",
    "index=0\n",
    "while index<len(ch):\n",
    "    if '0'<=ch[index]<='9':\n",
    "        new+=ch[index]\n",
    "    index+=1\n",
    "print(new)"
   ]
  },
  {
   "cell_type": "code",
   "execution_count": 68,
   "metadata": {},
   "outputs": [
    {
     "name": "stdout",
     "output_type": "stream",
     "text": [
      "JYOTHIKA\n"
     ]
    }
   ],
   "source": [
    "#116 remove ascii values\n",
    "ch='JYOTHIKA12345'\n",
    "new=''\n",
    "index=0\n",
    "while index<len(ch):\n",
    "    if 'a'<=ch[index]<='z' or 'A'<=ch[index]<='Z':\n",
    "        new+=ch[index]\n",
    "    index+=1\n",
    "print(new)"
   ]
  },
  {
   "cell_type": "code",
   "execution_count": 70,
   "metadata": {},
   "outputs": [
    {
     "name": "stdout",
     "output_type": "stream",
     "text": [
      "JYOTHIKa123\n"
     ]
    }
   ],
   "source": [
    "#117 remove special characters\n",
    "ch='JYOTHIKa@123*$'\n",
    "new=''\n",
    "index=0\n",
    "while index<len(ch):\n",
    "    if  'a'<=ch[index]<='z' or 'A'<=ch[index]<='Z' or '0'<=ch[index]<='9':\n",
    "        new+=ch[index]\n",
    "    index+=1\n",
    "print(new)"
   ]
  },
  {
   "cell_type": "code",
   "execution_count": 86,
   "metadata": {},
   "outputs": [
    {
     "ename": "IndentationError",
     "evalue": "expected an indented block after 'if' statement on line 6 (1951167512.py, line 7)",
     "output_type": "error",
     "traceback": [
      "\u001b[1;36m  Cell \u001b[1;32mIn[86], line 7\u001b[1;36m\u001b[0m\n\u001b[1;33m    print('palindrome')\u001b[0m\n\u001b[1;37m                       ^\u001b[0m\n\u001b[1;31mIndentationError\u001b[0m\u001b[1;31m:\u001b[0m expected an indented block after 'if' statement on line 6\n"
     ]
    }
   ],
   "source": [
    "#118 palindrome or not\n",
    "ch='malayalam'\n",
    "res=ch[::-1]\n",
    "index=1\n",
    "while index==1:\n",
    "        if ch==res:\n",
    "print('palindrome')\n",
    "\n"
   ]
  },
  {
   "cell_type": "code",
   "execution_count": null,
   "metadata": {},
   "outputs": [],
   "source": []
  },
  {
   "cell_type": "code",
   "execution_count": null,
   "metadata": {},
   "outputs": [],
   "source": []
  },
  {
   "cell_type": "code",
   "execution_count": null,
   "metadata": {},
   "outputs": [],
   "source": []
  },
  {
   "cell_type": "code",
   "execution_count": null,
   "metadata": {},
   "outputs": [],
   "source": []
  }
 ],
 "metadata": {
  "kernelspec": {
   "display_name": "Python 3",
   "language": "python",
   "name": "python3"
  },
  "language_info": {
   "codemirror_mode": {
    "name": "ipython",
    "version": 3
   },
   "file_extension": ".py",
   "mimetype": "text/x-python",
   "name": "python",
   "nbconvert_exporter": "python",
   "pygments_lexer": "ipython3",
   "version": "3.11.4"
  },
  "orig_nbformat": 4
 },
 "nbformat": 4,
 "nbformat_minor": 2
}
