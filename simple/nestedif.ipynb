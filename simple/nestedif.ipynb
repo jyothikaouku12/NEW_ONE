{
 "cells": [
  {
   "cell_type": "code",
   "execution_count": null,
   "metadata": {},
   "outputs": [],
   "source": [
    "#\n",
    "a=[10,20]\n",
    "b=[30,50]\n",
    "\n"
   ]
  },
  {
   "cell_type": "code",
   "execution_count": 2,
   "metadata": {},
   "outputs": [
    {
     "name": "stdout",
     "output_type": "stream",
     "text": [
      "80\n"
     ]
    }
   ],
   "source": [
    "# greatest among three numbers\n",
    "a=20\n",
    "b=80\n",
    "c=50\n",
    "if a>b:\n",
    "    if a>c:\n",
    "        print(a)\n",
    "elif b>c:\n",
    "    if b>a:\n",
    "        print(b)\n",
    "else:\n",
    "    print(c)\n",
    "\n",
    "\n",
    "\n"
   ]
  },
  {
   "cell_type": "code",
   "execution_count": 5,
   "metadata": {},
   "outputs": [],
   "source": [
    "G = ([1,2,3,45], (\"raja\"), [10,20, (30)], [\"vinay\",450, {11,11}, (50)])\n"
   ]
  },
  {
   "cell_type": "code",
   "execution_count": 23,
   "metadata": {},
   "outputs": [
    {
     "name": "stdout",
     "output_type": "stream",
     "text": [
      "V\n"
     ]
    }
   ],
   "source": [
    "#WAP to check whether a given character is alphabet or not,\n",
    "#if alphabet to check the given alphabet character is uppercase or not,\n",
    "#if uppercase, to check vowel or not, if vowel to display the next character of given \n",
    "#character, if lowercase, to convert to uppercase and display the character,\n",
    "#or else the given character is not an alphabet, then to check if the given character is an ascii number or special character, and display the result.\n",
    "ch='U'  \n",
    "if 'A'<=ch<='Z':\n",
    "    if ch in 'AEIOU':\n",
    "        print(chr(ord(ch)+1))\n",
    "elif 'a'<=ch<='z':\n",
    "    print(chr(ord(ch)-32))\n",
    "elif '0'<=ch<='9' or not('a'<=ch<='z' or 'A' <=ch<='Z'):\n",
    "    print(ch)\n",
    "\n",
    "\n",
    "\n"
   ]
  },
  {
   "cell_type": "code",
   "execution_count": null,
   "metadata": {},
   "outputs": [],
   "source": [
    "#WAP to check whether a given value is a int or float or string or other, if int, given \n",
    "#value division by 5 and display the quotient,\n",
    "#if float, perform the bitwise or operation with 15, if string, extract for last position \n",
    "#value and store it in first positions of the string, else store the value in the list and \n",
    "#display the result.\n",
    "\n",
    "ch=60\n",
    "if type(ch) in [int,float,str,list ,set,tuple]:\n",
    "    if ch%5==0:\n",
    "        print(ch|5)\n",
    "elif type(ch)==float:\n",
    "    print(ch|=15)\n",
    "elif type(ch)==str:;l \n",
    "    \n",
    "\n",
    "\n",
    "\n",
    "\n",
    "\n"
   ]
  },
  {
   "cell_type": "code",
   "execution_count": 32,
   "metadata": {},
   "outputs": [
    {
     "name": "stdout",
     "output_type": "stream",
     "text": [
      "invalid\n"
     ]
    }
   ],
   "source": [
    "g=96\n",
    "match g:\n",
    "    case 95:\n",
    "        print('first class')\n",
    "    case 79:\n",
    "        print('second class')\n",
    "    case 40:\n",
    "        print('third class')\n",
    "    case _:\n",
    "        print('invalid')"
   ]
  },
  {
   "cell_type": "code",
   "execution_count": null,
   "metadata": {},
   "outputs": [],
   "source": []
  }
 ],
 "metadata": {
  "kernelspec": {
   "display_name": "Python 3",
   "language": "python",
   "name": "python3"
  },
  "language_info": {
   "codemirror_mode": {
    "name": "ipython",
    "version": 3
   },
   "file_extension": ".py",
   "mimetype": "text/x-python",
   "name": "python",
   "nbconvert_exporter": "python",
   "pygments_lexer": "ipython3",
   "version": "3.11.4"
  },
  "orig_nbformat": 4
 },
 "nbformat": 4,
 "nbformat_minor": 2
}
