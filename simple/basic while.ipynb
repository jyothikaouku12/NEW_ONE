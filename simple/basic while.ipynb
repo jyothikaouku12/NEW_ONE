{
 "cells": [
  {
   "cell_type": "code",
   "execution_count": 1,
   "metadata": {},
   "outputs": [
    {
     "name": "stdout",
     "output_type": "stream",
     "text": [
      "1\n",
      "2\n",
      "3\n",
      "4\n",
      "5\n",
      "6\n",
      "7\n",
      "8\n",
      "9\n",
      "10\n"
     ]
    }
   ],
   "source": [
    "#print from 1 to 10\n",
    "m=1\n",
    "n=10\n",
    "while m<=n:\n",
    "    print(m)\n",
    "    m+=1"
   ]
  },
  {
   "cell_type": "code",
   "execution_count": 6,
   "metadata": {},
   "outputs": [
    {
     "name": "stdout",
     "output_type": "stream",
     "text": [
      "27\n",
      "30\n",
      "33\n",
      "36\n",
      "39\n",
      "42\n",
      "45\n",
      "48\n",
      "51\n",
      "54\n",
      "57\n",
      "60\n",
      "63\n",
      "66\n"
     ]
    }
   ],
   "source": [
    "m=25\n",
    "n=66\n",
    "while m<=n:\n",
    "    if m%3==0:\n",
    "     print(m)\n",
    "    m+=1"
   ]
  },
  {
   "cell_type": "code",
   "execution_count": 87,
   "metadata": {},
   "outputs": [
    {
     "name": "stdout",
     "output_type": "stream",
     "text": [
      "1\n",
      "2\n",
      "3\n",
      "4\n",
      "5\n",
      "6\n",
      "7\n",
      "8\n",
      "9\n",
      "10\n"
     ]
    }
   ],
   "source": [
    "m=1\n",
    "n=10\n",
    "while m<=n:\n",
    "    print(m)\n",
    "    m+=1"
   ]
  },
  {
   "cell_type": "code",
   "execution_count": 88,
   "metadata": {},
   "outputs": [
    {
     "name": "stdout",
     "output_type": "stream",
     "text": [
      "10\n",
      "9\n",
      "8\n",
      "7\n",
      "6\n",
      "5\n",
      "4\n",
      "3\n",
      "2\n",
      "1\n",
      "0\n"
     ]
    }
   ],
   "source": [
    "m=10\n",
    "n=0\n",
    "while m>=n:\n",
    "    print(m)\n",
    "    m-=1"
   ]
  },
  {
   "cell_type": "code",
   "execution_count": 89,
   "metadata": {},
   "outputs": [
    {
     "name": "stdout",
     "output_type": "stream",
     "text": [
      "5\n",
      "5\n",
      "5\n",
      "5\n",
      "5\n"
     ]
    }
   ],
   "source": [
    "n=5\n",
    "i=1\n",
    "while i<=n:\n",
    "    print(n)\n",
    "    i+=1\n"
   ]
  },
  {
   "cell_type": "code",
   "execution_count": null,
   "metadata": {},
   "outputs": [],
   "source": [
    "m=5\n",
    "n=20\n",
    "i=1\n",
    "while m<=n:\n",
    "    "
   ]
  },
  {
   "cell_type": "code",
   "execution_count": 10,
   "metadata": {},
   "outputs": [
    {
     "name": "stdout",
     "output_type": "stream",
     "text": [
      "15\n",
      "30\n",
      "45\n",
      "60\n",
      "75\n"
     ]
    }
   ],
   "source": [
    "m=15\n",
    "n=76\n",
    "while m<=n:\n",
    "    if m%3==0 and m%5==0:\n",
    "        print(m)\n",
    "    m+=1"
   ]
  },
  {
   "cell_type": "code",
   "execution_count": 11,
   "metadata": {},
   "outputs": [
    {
     "name": "stdout",
     "output_type": "stream",
     "text": [
      "70\n",
      "35\n"
     ]
    }
   ],
   "source": [
    "m=77\n",
    "n=22\n",
    "while m>=n:\n",
    "    if m%5==0 and m%7==0:\n",
    "        print(m)\n",
    "    m-=1"
   ]
  },
  {
   "cell_type": "code",
   "execution_count": 14,
   "metadata": {},
   "outputs": [
    {
     "name": "stdout",
     "output_type": "stream",
     "text": [
      "love you\n",
      "hate you\n",
      "love you\n",
      "love you\n",
      "hate you\n",
      "love you\n",
      "love you\n",
      "love you\n",
      "hate you\n",
      "love you\n",
      "love you\n",
      "hate you\n",
      "love you\n",
      "love you\n"
     ]
    }
   ],
   "source": [
    "m=1\n",
    "n=30\n",
    "while m<=n:\n",
    "    if m%3==0:\n",
    "        print('love you')\n",
    "    elif m%5==0:\n",
    "        print('hate you')\n",
    "    elif m%3==0 and m%5==0:\n",
    "        print('i like you')\n",
    "    m+=1"
   ]
  },
  {
   "cell_type": "code",
   "execution_count": 1,
   "metadata": {},
   "outputs": [
    {
     "name": "stdout",
     "output_type": "stream",
     "text": [
      "1\n",
      "3\n",
      "6\n",
      "10\n",
      "15\n",
      "21\n",
      "28\n",
      "36\n",
      "45\n",
      "55\n"
     ]
    }
   ],
   "source": [
    "#sum of nth natural numbers\n",
    "m=1\n",
    "n=int(input('enter the value'))\n",
    "sum=0\n",
    "while m<=n:\n",
    "    sum+=m\n",
    "    print(sum)\n",
    "    m+=1\n",
    "\n",
    "\n",
    "    "
   ]
  },
  {
   "cell_type": "code",
   "execution_count": 2,
   "metadata": {},
   "outputs": [
    {
     "name": "stdout",
     "output_type": "stream",
     "text": [
      "2\n",
      "4\n",
      "6\n",
      "8\n",
      "10\n",
      "12\n",
      "14\n",
      "16\n",
      "18\n",
      "20\n"
     ]
    }
   ],
   "source": [
    "#sum of even from 1 to 20\n",
    "m=1\n",
    "n=20\n",
    "while m<=n:\n",
    "    if m%2==0:\n",
    "        print(m)\n",
    "    m+=1"
   ]
  },
  {
   "cell_type": "code",
   "execution_count": 5,
   "metadata": {},
   "outputs": [
    {
     "name": "stdout",
     "output_type": "stream",
     "text": [
      "720\n"
     ]
    }
   ],
   "source": [
    "#product from 1 to 6\n",
    "m=1\n",
    "n=6\n",
    "prod=1\n",
    "while m<=n:\n",
    "    prod*=m\n",
    "    m+=1\n",
    "print(prod)\n"
   ]
  },
  {
   "cell_type": "code",
   "execution_count": 9,
   "metadata": {},
   "outputs": [
    {
     "name": "stdout",
     "output_type": "stream",
     "text": [
      "1\n",
      "3\n",
      "5\n",
      "7\n",
      "9\n",
      "11\n",
      "13\n",
      "15\n",
      "17\n",
      "19\n",
      "21\n",
      "23\n",
      "25\n",
      "27\n",
      "29\n"
     ]
    }
   ],
   "source": [
    "#odd from 1 to 30\n",
    "m=1\n",
    "n=30\n",
    "while m<=n:\n",
    "    if m%2!=0:\n",
    "        print(m)\n",
    "    m+=1"
   ]
  },
  {
   "cell_type": "code",
   "execution_count": 18,
   "metadata": {},
   "outputs": [
    {
     "name": "stdout",
     "output_type": "stream",
     "text": [
      "1\n",
      "2\n",
      "3\n",
      "4\n",
      "6\n",
      "8\n",
      "12\n",
      "24\n"
     ]
    }
   ],
   "source": [
    "#factors of given number\n",
    "n=24\n",
    "i=1\n",
    "while i<=n:\n",
    "    if n%i==0:\n",
    "        print(i)\n",
    "    i+=1\n"
   ]
  },
  {
   "cell_type": "code",
   "execution_count": 23,
   "metadata": {},
   "outputs": [
    {
     "name": "stdout",
     "output_type": "stream",
     "text": [
      "12\n"
     ]
    }
   ],
   "source": [
    "#sum of factors\n",
    "n=6\n",
    "i=1\n",
    "sum=0\n",
    "while i<=n:\n",
    "    if n%i==0:\n",
    "        sum+=i\n",
    "    i+=1\n",
    "print(sum)\n"
   ]
  },
  {
   "cell_type": "code",
   "execution_count": 25,
   "metadata": {},
   "outputs": [
    {
     "name": "stdout",
     "output_type": "stream",
     "text": [
      "36\n"
     ]
    }
   ],
   "source": [
    "#prod of factors\n",
    "n=6\n",
    "i=1\n",
    "prod=1\n",
    "while i<=n:\n",
    "    if n%i==0:\n",
    "        prod*=i\n",
    "    i+=1\n",
    "print(prod)\n"
   ]
  },
  {
   "cell_type": "code",
   "execution_count": 31,
   "metadata": {},
   "outputs": [
    {
     "name": "stdout",
     "output_type": "stream",
     "text": [
      "A\n",
      "B\n",
      "C\n",
      "D\n",
      "E\n",
      "F\n",
      "G\n",
      "H\n",
      "I\n",
      "J\n",
      "K\n",
      "L\n",
      "M\n",
      "N\n",
      "O\n",
      "P\n",
      "Q\n",
      "R\n",
      "S\n",
      "T\n",
      "U\n",
      "V\n",
      "W\n",
      "X\n",
      "Y\n",
      "Z\n"
     ]
    }
   ],
   "source": [
    "\n",
    "letter = 'A'\n",
    "while letter <= 'Z':\n",
    "    print(letter)\n",
    "    letter = chr(ord(letter) + 1)\n"
   ]
  },
  {
   "cell_type": "code",
   "execution_count": 32,
   "metadata": {},
   "outputs": [
    {
     "name": "stdout",
     "output_type": "stream",
     "text": [
      "a\n",
      "b\n",
      "c\n",
      "d\n",
      "e\n",
      "f\n",
      "g\n",
      "h\n",
      "i\n",
      "j\n",
      "k\n",
      "l\n",
      "m\n",
      "n\n",
      "o\n",
      "p\n",
      "q\n",
      "r\n",
      "s\n",
      "t\n",
      "u\n",
      "v\n",
      "w\n",
      "x\n",
      "y\n",
      "z\n"
     ]
    }
   ],
   "source": [
    "\n",
    "letter = 'a'\n",
    "while letter <= 'z':\n",
    "    print(letter)\n",
    "    letter = chr(ord(letter) + 1)\n"
   ]
  },
  {
   "cell_type": "code",
   "execution_count": 36,
   "metadata": {},
   "outputs": [
    {
     "name": "stdout",
     "output_type": "stream",
     "text": [
      "0\n",
      "1\n",
      "2\n",
      "3\n",
      "4\n",
      "5\n",
      "6\n",
      "7\n",
      "8\n",
      "9\n"
     ]
    }
   ],
   "source": [
    "m='0'\n",
    "while m<='9':\n",
    "    print(m)\n",
    "    m=chr(ord(m)+1)"
   ]
  },
  {
   "cell_type": "code",
   "execution_count": 40,
   "metadata": {},
   "outputs": [
    {
     "name": "stdout",
     "output_type": "stream",
     "text": [
      "E\n",
      "F\n",
      "G\n",
      "H\n",
      "I\n",
      "J\n",
      "K\n",
      "L\n",
      "M\n",
      "N\n",
      "O\n",
      "P\n",
      "Q\n",
      "R\n",
      "S\n",
      "T\n",
      "U\n"
     ]
    }
   ],
   "source": [
    "letter = 'E'\n",
    "new='U'\n",
    "while letter <= new:\n",
    "    print(letter)\n",
    "    letter = chr(ord(letter) + 1)"
   ]
  },
  {
   "cell_type": "code",
   "execution_count": 41,
   "metadata": {},
   "outputs": [
    {
     "name": "stdout",
     "output_type": "stream",
     "text": [
      "Z\n",
      "Y\n",
      "X\n",
      "W\n",
      "V\n",
      "U\n",
      "T\n",
      "S\n",
      "R\n",
      "Q\n",
      "P\n",
      "O\n",
      "N\n",
      "M\n",
      "L\n",
      "K\n",
      "J\n",
      "I\n",
      "H\n",
      "G\n",
      "F\n",
      "E\n",
      "D\n",
      "C\n",
      "B\n",
      "A\n"
     ]
    }
   ],
   "source": [
    "m='Z'\n",
    "n='A'\n",
    "while m>=n:\n",
    "    print(m)\n",
    "    m=chr(ord(m)-1)\n"
   ]
  },
  {
   "cell_type": "code",
   "execution_count": 42,
   "metadata": {},
   "outputs": [
    {
     "name": "stdout",
     "output_type": "stream",
     "text": [
      "U\n",
      "T\n",
      "S\n",
      "R\n",
      "Q\n",
      "P\n",
      "O\n",
      "N\n",
      "M\n",
      "L\n",
      "K\n",
      "J\n",
      "I\n",
      "H\n",
      "G\n"
     ]
    }
   ],
   "source": [
    "m='U'\n",
    "n='G'\n",
    "while m>=n:\n",
    "    print(m)\n",
    "    m=chr(ord(m)-1)"
   ]
  },
  {
   "cell_type": "code",
   "execution_count": 45,
   "metadata": {},
   "outputs": [
    {
     "name": "stdout",
     "output_type": "stream",
     "text": [
      "i\n",
      "j\n",
      "k\n",
      "l\n",
      "m\n",
      "n\n",
      "o\n",
      "p\n",
      "q\n",
      "r\n",
      "s\n",
      "t\n",
      "u\n",
      "v\n",
      "w\n",
      "x\n",
      "y\n"
     ]
    }
   ],
   "source": [
    "m='i'\n",
    "n='y'\n",
    "while m<=n:\n",
    "    print(m)\n",
    "    m=chr(ord(m)+1)"
   ]
  },
  {
   "cell_type": "code",
   "execution_count": 4,
   "metadata": {},
   "outputs": [
    {
     "name": "stdout",
     "output_type": "stream",
     "text": [
      "z\n",
      "y\n",
      "x\n",
      "w\n",
      "v\n",
      "u\n",
      "t\n",
      "s\n",
      "r\n",
      "q\n",
      "p\n",
      "o\n",
      "n\n",
      "m\n",
      "l\n",
      "k\n",
      "j\n",
      "i\n",
      "h\n",
      "g\n",
      "f\n",
      "e\n",
      "d\n",
      "c\n",
      "b\n",
      "a\n"
     ]
    }
   ],
   "source": [
    "m='z'\n",
    "n='a'\n",
    "while m>=n:\n",
    " print(m)\n",
    " m=chr(ord(m)-1)"
   ]
  },
  {
   "cell_type": "code",
   "execution_count": 47,
   "metadata": {},
   "outputs": [
    {
     "name": "stdout",
     "output_type": "stream",
     "text": [
      "p\n",
      "o\n",
      "n\n",
      "m\n",
      "l\n",
      "k\n",
      "j\n",
      "i\n",
      "h\n",
      "g\n",
      "f\n",
      "e\n",
      "d\n",
      "c\n"
     ]
    }
   ],
   "source": [
    "m='p'\n",
    "n='c'\n",
    "while m>=n:\n",
    "    print(m)\n",
    "    m=chr(ord(m)-1)"
   ]
  },
  {
   "cell_type": "code",
   "execution_count": 48,
   "metadata": {},
   "outputs": [
    {
     "name": "stdout",
     "output_type": "stream",
     "text": [
      "B\n",
      "D\n",
      "F\n",
      "H\n",
      "J\n",
      "L\n",
      "N\n",
      "P\n",
      "R\n",
      "T\n",
      "V\n",
      "X\n",
      "Z\n"
     ]
    }
   ],
   "source": [
    "m='A'\n",
    "n='Z'\n",
    "while m<=n:\n",
    "    if ord(m)%2==0:\n",
    "     print(m)\n",
    "    m=chr(ord(m)+1)"
   ]
  },
  {
   "cell_type": "code",
   "execution_count": 49,
   "metadata": {},
   "outputs": [
    {
     "name": "stdout",
     "output_type": "stream",
     "text": [
      "b\n",
      "d\n",
      "f\n",
      "h\n",
      "j\n",
      "l\n",
      "n\n",
      "p\n",
      "r\n",
      "t\n",
      "v\n",
      "x\n",
      "z\n"
     ]
    }
   ],
   "source": [
    "m='a'\n",
    "n='z'\n",
    "while m<=n:\n",
    "    if ord(m)%2==0:\n",
    "     print(m)\n",
    "    m=chr(ord(m)+1)"
   ]
  },
  {
   "cell_type": "code",
   "execution_count": 50,
   "metadata": {},
   "outputs": [
    {
     "name": "stdout",
     "output_type": "stream",
     "text": [
      "A\n",
      "C\n",
      "E\n",
      "G\n",
      "I\n",
      "K\n",
      "M\n",
      "O\n",
      "Q\n",
      "S\n",
      "U\n",
      "W\n",
      "Y\n"
     ]
    }
   ],
   "source": [
    "m='A'\n",
    "n='Z'\n",
    "while m<=n:\n",
    "    if ord(m)%2!=0:\n",
    "     print(m)\n",
    "    m=chr(ord(m)+1)"
   ]
  },
  {
   "cell_type": "code",
   "execution_count": 51,
   "metadata": {},
   "outputs": [
    {
     "name": "stdout",
     "output_type": "stream",
     "text": [
      "a\n",
      "c\n",
      "e\n",
      "g\n",
      "i\n",
      "k\n",
      "m\n",
      "o\n",
      "q\n",
      "s\n",
      "u\n",
      "w\n",
      "y\n"
     ]
    }
   ],
   "source": [
    "m='a'\n",
    "n='z'\n",
    "while m<=n:\n",
    "    if ord(m)%2!=0:\n",
    "     print(m)\n",
    "    m=chr(ord(m)+1)"
   ]
  },
  {
   "cell_type": "code",
   "execution_count": 52,
   "metadata": {},
   "outputs": [
    {
     "name": "stdout",
     "output_type": "stream",
     "text": [
      "E\n",
      "I\n",
      "O\n",
      "U\n"
     ]
    }
   ],
   "source": [
    "#ocount the number of vowels from d to v\n",
    "m='D'\n",
    "n='V'\n",
    "while m<=n:\n",
    "    if m in 'AEIOU':\n",
    "        print(m)\n",
    "    m=chr(ord(m)+1)"
   ]
  },
  {
   "cell_type": "code",
   "execution_count": 54,
   "metadata": {},
   "outputs": [
    {
     "name": "stdout",
     "output_type": "stream",
     "text": [
      "u\n",
      "o\n",
      "i\n",
      "e\n"
     ]
    }
   ],
   "source": [
    "#wap to print from u to e\n",
    "m='u'\n",
    "n='e'\n",
    "while m>=n:\n",
    "    if m in 'aeiou':\n",
    "        print(m)\n",
    "    m=chr(ord(m)-1)"
   ]
  },
  {
   "cell_type": "code",
   "execution_count": 71,
   "metadata": {},
   "outputs": [
    {
     "ename": "IndentationError",
     "evalue": "unexpected indent (3110810410.py, line 8)",
     "output_type": "error",
     "traceback": [
      "\u001b[1;36m  Cell \u001b[1;32mIn[71], line 8\u001b[1;36m\u001b[0m\n\u001b[1;33m    if ld==2:\u001b[0m\n\u001b[1;37m    ^\u001b[0m\n\u001b[1;31mIndentationError\u001b[0m\u001b[1;31m:\u001b[0m unexpected indent\n"
     ]
    }
   ],
   "source": [
    "m=0\n",
    "n=35\n",
    "count=0\n",
    "while m<=n:\n",
    "    new=m\n",
    "    while new>=0:\n",
    "     ld=n%10\n",
    "       if ld==2:\n",
    "         count+=1\n",
    "         m=m//10\n",
    "    m+=1\n",
    "    print(count)\n",
    "\n"
   ]
  },
  {
   "cell_type": "code",
   "execution_count": 79,
   "metadata": {},
   "outputs": [
    {
     "name": "stdout",
     "output_type": "stream",
     "text": [
      "14\n"
     ]
    }
   ],
   "source": [
    "m=0\n",
    "n=35\n",
    "count=0\n",
    "while m<=n:\n",
    "    new=m\n",
    "    while new>0:\n",
    "        ld=new%10\n",
    "        if ld==2:\n",
    "            count+=1\n",
    "        new=new//10\n",
    "    m+=1\n",
    "print(count)"
   ]
  },
  {
   "cell_type": "code",
   "execution_count": 84,
   "metadata": {},
   "outputs": [
    {
     "name": "stdout",
     "output_type": "stream",
     "text": [
      "27 3\n",
      "216 6\n",
      "729 9\n",
      "1728 12\n",
      "3375 15\n",
      "5832 18\n"
     ]
    }
   ],
   "source": [
    "m=1\n",
    "n=20\n",
    "while m<=n:\n",
    "    if m%3==0:\n",
    "        print(m**3,m)\n",
    "    m+=1"
   ]
  },
  {
   "cell_type": "code",
   "execution_count": 8,
   "metadata": {},
   "outputs": [
    {
     "name": "stdout",
     "output_type": "stream",
     "text": [
      "5 * 1 = 5\n",
      "5 * 2 = 10\n",
      "5 * 3 = 15\n",
      "5 * 4 = 20\n",
      "5 * 5 = 25\n",
      "5 * 6 = 30\n",
      "5 * 7 = 35\n",
      "5 * 8 = 40\n",
      "5 * 9 = 45\n",
      "5 * 10 = 50\n",
      "5 * 11 = 55\n",
      "5 * 12 = 60\n",
      "5 * 13 = 65\n",
      "5 * 14 = 70\n",
      "5 * 15 = 75\n",
      "5 * 16 = 80\n",
      "5 * 17 = 85\n",
      "5 * 18 = 90\n",
      "5 * 19 = 95\n",
      "5 * 20 = 100\n"
     ]
    }
   ],
   "source": [
    "#print 5 table from 1 to 20\n",
    "m=5\n",
    "n=20\n",
    "i=1\n",
    "while i<=n:\n",
    "    prod=m*i\n",
    "    print(m,'*',i,'=',prod)\n",
    "    i+=1"
   ]
  },
  {
   "cell_type": "code",
   "execution_count": 3,
   "metadata": {},
   "outputs": [
    {
     "name": "stdout",
     "output_type": "stream",
     "text": [
      "5\n"
     ]
    }
   ],
   "source": [
    "#print 5 table from 1 to 20\n",
    "m=5\n",
    "n=20\n",
    "i=1\n",
    "while n>=i:\n",
    "    prod=m*i\n",
    "    n-=1\n",
    "print(prod)"
   ]
  },
  {
   "cell_type": "code",
   "execution_count": null,
   "metadata": {},
   "outputs": [],
   "source": [
    "#print upper case\n",
    "ch='JyothiKA'\n",
    "index=0\n",
    "res=''\n",
    "while index<len(ch):\n",
    "    if 'A'<=ch[index]<='Z':\n",
    "        res+=ch[index]\n",
    "    index+=1\n",
    "print(res)"
   ]
  },
  {
   "cell_type": "code",
   "execution_count": 9,
   "metadata": {},
   "outputs": [
    {
     "name": "stdout",
     "output_type": "stream",
     "text": [
      "yothi\n"
     ]
    }
   ],
   "source": [
    "#lower case in a given string\n",
    "ch='JyothiKA'\n",
    "index=0\n",
    "res=''\n",
    "while index<len(ch):\n",
    "    if 'a'<=ch[index]<='z':\n",
    "        res+=ch[index]\n",
    "    index+=1\n",
    "print(res)"
   ]
  },
  {
   "cell_type": "code",
   "execution_count": 13,
   "metadata": {},
   "outputs": [
    {
     "name": "stdout",
     "output_type": "stream",
     "text": [
      "123\n"
     ]
    }
   ],
   "source": [
    "#ascii digits in a given string\n",
    "n='jyothi123'\n",
    "res=''\n",
    "index=0\n",
    "while index<len(n):\n",
    "    if '0'<=n[index]<='9':\n",
    "        res+=n[index]\n",
    "    index+=1\n",
    "print(res)\n"
   ]
  },
  {
   "cell_type": "code",
   "execution_count": 17,
   "metadata": {},
   "outputs": [
    {
     "name": "stdout",
     "output_type": "stream",
     "text": [
      "@\n"
     ]
    }
   ],
   "source": [
    "#special characters in a given string\n",
    "n='jyoth@i123'\n",
    "res=''\n",
    "index=0\n",
    "while index<len(n):\n",
    "    if not('0'<=n[index]<='9' or 'A'<=n[index]<='Z' or 'a'<=n[index]<='z'):\n",
    "        res+=n[index]\n",
    "    index+=1\n",
    "print(res)"
   ]
  },
  {
   "cell_type": "code",
   "execution_count": 37,
   "metadata": {},
   "outputs": [
    {
     "ename": "SyntaxError",
     "evalue": "invalid syntax (897291539.py, line 7)",
     "output_type": "error",
     "traceback": [
      "\u001b[1;36m  Cell \u001b[1;32mIn[37], line 7\u001b[1;36m\u001b[0m\n\u001b[1;33m    i+=\u001b[0m\n\u001b[1;37m       ^\u001b[0m\n\u001b[1;31mSyntaxError\u001b[0m\u001b[1;31m:\u001b[0m invalid syntax\n"
     ]
    }
   ],
   "source": [
    "#reverse the characters in a string\n",
    "ch='jyothika'\n",
    "index=-1\n",
    "while index<=-len(ch)+1:\n",
    "\n",
    "\n",
    "\n",
    "    \n"
   ]
  },
  {
   "cell_type": "code",
   "execution_count": 10,
   "metadata": {},
   "outputs": [
    {
     "ename": "KeyboardInterrupt",
     "evalue": "",
     "output_type": "error",
     "traceback": [
      "\u001b[1;31m---------------------------------------------------------------------------\u001b[0m",
      "\u001b[1;31mKeyboardInterrupt\u001b[0m                         Traceback (most recent call last)",
      "Cell \u001b[1;32mIn[10], line 5\u001b[0m\n\u001b[0;32m      3\u001b[0m index\u001b[39m=\u001b[39m\u001b[39m0\u001b[39m\n\u001b[0;32m      4\u001b[0m count\u001b[39m=\u001b[39m\u001b[39m0\u001b[39m\n\u001b[1;32m----> 5\u001b[0m \u001b[39mwhile\u001b[39;00m index\u001b[39m<\u001b[39m\u001b[39mlen\u001b[39m(ch):\n\u001b[0;32m      6\u001b[0m     count\u001b[39m+\u001b[39m\u001b[39m=\u001b[39m\u001b[39m1\u001b[39m\n\u001b[0;32m      7\u001b[0m \u001b[39mprint\u001b[39m(count)\n",
      "\u001b[1;31mKeyboardInterrupt\u001b[0m: "
     ]
    }
   ],
   "source": [
    "#coun the characters\n",
    "ch='jyothika'\n",
    "index=0\n",
    "count=0\n",
    "while index<len(ch):\n",
    "    count+=1\n",
    "print(count)"
   ]
  },
  {
   "cell_type": "code",
   "execution_count": 12,
   "metadata": {},
   "outputs": [
    {
     "ename": "KeyboardInterrupt",
     "evalue": "",
     "output_type": "error",
     "traceback": [
      "\u001b[1;31m---------------------------------------------------------------------------\u001b[0m",
      "\u001b[1;31mKeyboardInterrupt\u001b[0m                         Traceback (most recent call last)",
      "Cell \u001b[1;32mIn[12], line 4\u001b[0m\n\u001b[0;32m      2\u001b[0m index\u001b[39m=\u001b[39m\u001b[39m0\u001b[39m\n\u001b[0;32m      3\u001b[0m count\u001b[39m=\u001b[39m\u001b[39m0\u001b[39m\n\u001b[1;32m----> 4\u001b[0m \u001b[39mwhile\u001b[39;00m index\u001b[39m<\u001b[39m\u001b[39mlen\u001b[39m(ch):\n\u001b[0;32m      5\u001b[0m     count\u001b[39m+\u001b[39m\u001b[39m=\u001b[39m\u001b[39m1\u001b[39m\n\u001b[0;32m      6\u001b[0m \u001b[39mprint\u001b[39m(count)\n",
      "\u001b[1;31mKeyboardInterrupt\u001b[0m: "
     ]
    }
   ],
   "source": [
    "ch='jyothika'\n",
    "index=0\n",
    "count=0\n",
    "while index<len(ch):\n",
    "    count+=1\n",
    "print(count)"
   ]
  },
  {
   "cell_type": "code",
   "execution_count": 19,
   "metadata": {},
   "outputs": [
    {
     "name": "stdout",
     "output_type": "stream",
     "text": [
      "9\n"
     ]
    }
   ],
   "source": [
    "ch='jyothika'\n",
    "index=0\n",
    "count=0\n",
    "while index<=len(ch):\n",
    "     count+=1\n",
    "     index+=1\n",
    "print(count)"
   ]
  },
  {
   "cell_type": "code",
   "execution_count": 38,
   "metadata": {},
   "outputs": [
    {
     "name": "stdout",
     "output_type": "stream",
     "text": [
      "3\n"
     ]
    }
   ],
   "source": [
    "#count lower case in a string\n",
    "ch='JyothKA'\n",
    "index=0\n",
    "count=0\n",
    "while index<len(ch):\n",
    "    if 'A'<=ch[index]<='Z':\n",
    "        count+=1\n",
    "    index+=1\n",
    "print(count)"
   ]
  },
  {
   "cell_type": "code",
   "execution_count": null,
   "metadata": {},
   "outputs": [],
   "source": [
    "#count the repeats\n",
    "ch='jyoothikaa'\n",
    "index=0\n",
    "res=''\n",
    "while index<len(ch):\n",
    "    if 'a'<=ch[index]<='z':\n",
    "        if count(ch[index])>1:\n",
    "            res+=\n"
   ]
  },
  {
   "cell_type": "code",
   "execution_count": 4,
   "metadata": {},
   "outputs": [
    {
     "name": "stdout",
     "output_type": "stream",
     "text": [
      "Repeated letters: m, r, g\n"
     ]
    }
   ],
   "source": [
    "input_string = \"programming\"\n",
    "\n",
    "\n",
    "repeated_letters = set()\n",
    "index = 0\n",
    "\n",
    "while index < len(input_string):\n",
    "    if 'a' <= input_string[index] <= 'z' and input_string.count(input_string[index]) > 1:\n",
    "        repeated_letters |= {input_string[index]}\n",
    "    index += 1\n",
    "\n",
    "if len(repeated_letters) > 0:\n",
    "    print(\"Repeated letters:\", \", \".join(repeated_letters))\n",
    "else:\n",
    "    print(\"No repeated letters found.\")\n",
    "\n"
   ]
  },
  {
   "cell_type": "code",
   "execution_count": 1,
   "metadata": {},
   "outputs": [
    {
     "name": "stdout",
     "output_type": "stream",
     "text": [
      "abcxyz\n"
     ]
    }
   ],
   "source": [
    "#concat the strings\n",
    "ch='abc'\n",
    "st='xyz'\n",
    "new=ch+st\n",
    "print(new)\n"
   ]
  },
  {
   "cell_type": "code",
   "execution_count": 11,
   "metadata": {},
   "outputs": [
    {
     "name": "stdout",
     "output_type": "stream",
     "text": [
      "abcxyzw\n"
     ]
    }
   ],
   "source": [
    "m='abc'\n",
    "n='xyzw'\n",
    "index1=0\n",
    "index2=0\n",
    "res=''\n",
    "while index1<len(m):\n",
    "    if 'a'<=m[index1]<='z':\n",
    "        res+=m[index1]\n",
    "        index1+=1\n",
    "while index2<len(n):\n",
    "        if 'a'<=n[index2]<='z':\n",
    "            res+=n[index2]\n",
    "            index2+=1\n",
    "print(res)\n",
    "\n",
    "\n"
   ]
  },
  {
   "cell_type": "code",
   "execution_count": 6,
   "metadata": {},
   "outputs": [
    {
     "data": {
      "text/plain": [
       "'1'"
      ]
     },
     "execution_count": 6,
     "metadata": {},
     "output_type": "execute_result"
    }
   ],
   "source": [
    "new='xyz'\n",
    "str(len(new)//2)"
   ]
  },
  {
   "cell_type": "code",
   "execution_count": 14,
   "metadata": {},
   "outputs": [
    {
     "name": "stdout",
     "output_type": "stream",
     "text": [
      "axbyczwop\n"
     ]
    }
   ],
   "source": [
    "input1 = 'abc'\n",
    "input2 = 'xyzwop'\n",
    "\n",
    "output = ''\n",
    "index1 = 0\n",
    "index2 = 0\n",
    "\n",
    "while index1 < len(input1) or index2 < len(input2):\n",
    "    if index1 < len(input1):\n",
    "        output += input1[index1]\n",
    "        index1 += 1\n",
    "    \n",
    "    if index2 < len(input2):\n",
    "        output += input2[index2]\n",
    "        index2 += 1\n",
    "\n",
    "print( output)\n"
   ]
  },
  {
   "cell_type": "code",
   "execution_count": null,
   "metadata": {},
   "outputs": [],
   "source": [
    "st='abc123'\n",
    "new=[len(st)//2:]\n",
    "index=0\n"
   ]
  },
  {
   "cell_type": "code",
   "execution_count": 1,
   "metadata": {},
   "outputs": [
    {
     "name": "stdout",
     "output_type": "stream",
     "text": [
      "ot\n"
     ]
    }
   ],
   "source": [
    "st='jyot'\n",
    "new=st[len(st)//2:]\n",
    "print(new)"
   ]
  },
  {
   "cell_type": "code",
   "execution_count": 21,
   "metadata": {},
   "outputs": [
    {
     "name": "stdout",
     "output_type": "stream",
     "text": [
      "aaa333bbb222ccc444\n"
     ]
    }
   ],
   "source": [
    "ch='a3b2c4'\n",
    "index=0\n",
    "res=''\n",
    "new=int(ch[index+1])\n",
    "while index<len(ch):\n",
    "    res+=ch[index]*new\n",
    "    index+=1\n",
    "print(res)"
   ]
  },
  {
   "cell_type": "code",
   "execution_count": 28,
   "metadata": {},
   "outputs": [
    {
     "name": "stdout",
     "output_type": "stream",
     "text": [
      "2\n"
     ]
    }
   ],
   "source": [
    "new='a3b2c4'\n",
    "ex=new[len(st)//2]\n",
    "print(ex)"
   ]
  }
 ],
 "metadata": {
  "kernelspec": {
   "display_name": "Python 3",
   "language": "python",
   "name": "python3"
  },
  "language_info": {
   "codemirror_mode": {
    "name": "ipython",
    "version": 3
   },
   "file_extension": ".py",
   "mimetype": "text/x-python",
   "name": "python",
   "nbconvert_exporter": "python",
   "pygments_lexer": "ipython3",
   "version": "3.11.4"
  },
  "orig_nbformat": 4
 },
 "nbformat": 4,
 "nbformat_minor": 2
}
