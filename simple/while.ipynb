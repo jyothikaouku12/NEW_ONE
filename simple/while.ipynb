{
 "cells": [
  {
   "cell_type": "code",
   "execution_count": null,
   "metadata": {},
   "outputs": [],
   "source": [
    "# WAP sum of factors in a given number\n",
    "\n"
   ]
  },
  {
   "cell_type": "code",
   "execution_count": 2,
   "metadata": {},
   "outputs": [
    {
     "name": "stdout",
     "output_type": "stream",
     "text": [
      "1\n",
      "5\n",
      "4\n",
      "8\n",
      "9\n"
     ]
    }
   ],
   "source": [
    "#print the numbers r to l\n",
    "n=15489\n",
    "n=str(n)\n",
    "order=0\n",
    "while order<len(n):\n",
    "    print(n[order])\n",
    "    order+=1\n"
   ]
  },
  {
   "cell_type": "code",
   "execution_count": 6,
   "metadata": {},
   "outputs": [
    {
     "ename": "TypeError",
     "evalue": "'int' object is not subscriptable",
     "output_type": "error",
     "traceback": [
      "\u001b[1;31m---------------------------------------------------------------------------\u001b[0m",
      "\u001b[1;31mTypeError\u001b[0m                                 Traceback (most recent call last)",
      "Cell \u001b[1;32mIn[6], line 3\u001b[0m\n\u001b[0;32m      1\u001b[0m \u001b[39m#reverse\u001b[39;00m\n\u001b[0;32m      2\u001b[0m n\u001b[39m=\u001b[39m\u001b[39m15489\u001b[39m\n\u001b[1;32m----> 3\u001b[0m n\u001b[39m=\u001b[39m\u001b[39mstr\u001b[39m(n[::\u001b[39m-\u001b[39;49m\u001b[39m1\u001b[39;49m])\n\u001b[0;32m      4\u001b[0m order\u001b[39m=\u001b[39m\u001b[39m1\u001b[39m\n\u001b[0;32m      5\u001b[0m \u001b[39mwhile\u001b[39;00m order\u001b[39m>\u001b[39m\u001b[39mlen\u001b[39m(n):\n",
      "\u001b[1;31mTypeError\u001b[0m: 'int' object is not subscriptable"
     ]
    }
   ],
   "source": [
    "#reverse\n",
    "n=15489\n",
    "n=str(n[::-1])\n",
    "order=1\n",
    "while order>len(n):\n",
    "    print(n[order])\n",
    "    order+=1"
   ]
  },
  {
   "cell_type": "code",
   "execution_count": 10,
   "metadata": {},
   "outputs": [
    {
     "name": "stdout",
     "output_type": "stream",
     "text": [
      "9\n"
     ]
    }
   ],
   "source": [
    "#largest digit in given number\n",
    "n=15489\n",
    "large=0\n",
    "while n:\n",
    "    ld=n%10\n",
    "    if large<ld:\n",
    "        large=ld\n",
    "    n=n//10\n",
    "print(large)\n",
    "\n",
    "\n",
    "\n"
   ]
  },
  {
   "cell_type": "code",
   "execution_count": 11,
   "metadata": {},
   "outputs": [
    {
     "name": "stdout",
     "output_type": "stream",
     "text": [
      "1\n"
     ]
    }
   ],
   "source": [
    "#smaleest digit in given number\n",
    "n=15489\n",
    "res=9\n",
    "while n:\n",
    "    ld=n%10\n",
    "    if res>ld:\n",
    "        res=ld\n",
    "    n=n//10\n",
    "print(res)"
   ]
  },
  {
   "cell_type": "code",
   "execution_count": 15,
   "metadata": {},
   "outputs": [
    {
     "name": "stdout",
     "output_type": "stream",
     "text": [
      "0\n"
     ]
    }
   ],
   "source": [
    "#even largest digit\n",
    "n=15489\n",
    "res=0\n",
    "while n:\n",
    "    ld=n%10\n",
    "    if ld%2==0 :\n",
    "        res=ld\n",
    "    n=n//10\n",
    "print(res)"
   ]
  },
  {
   "cell_type": "code",
   "execution_count": 16,
   "metadata": {},
   "outputs": [
    {
     "name": "stdout",
     "output_type": "stream",
     "text": [
      "9\n",
      "17\n",
      "22\n",
      "26\n",
      "27\n"
     ]
    }
   ],
   "source": [
    "n=14589\n",
    "res=0\n",
    "while n:\n",
    "    ld=n%10\n",
    "    res+=ld\n",
    "    n=n//10\n",
    "    print(res)"
   ]
  },
  {
   "cell_type": "code",
   "execution_count": 18,
   "metadata": {},
   "outputs": [
    {
     "name": "stdout",
     "output_type": "stream",
     "text": [
      "5\n",
      "20\n",
      "60\n",
      "120\n",
      "120\n"
     ]
    }
   ],
   "source": [
    "n=12345\n",
    "res=1\n",
    "while n:\n",
    "    ld=n%10\n",
    "    res*=ld\n",
    "    n=n//10\n",
    "    print(res)"
   ]
  },
  {
   "cell_type": "code",
   "execution_count": 2,
   "metadata": {},
   "outputs": [
    {
     "name": "stdout",
     "output_type": "stream",
     "text": [
      "0\n",
      "-4\n",
      "-7\n",
      "-9\n",
      "-10\n"
     ]
    }
   ],
   "source": [
    "n=12345\n",
    "res=n%10\n",
    "while n:\n",
    "    ld=n%10\n",
    "    res-=ld\n",
    "    n=n//10\n",
    "    print(res)\n"
   ]
  },
  {
   "cell_type": "code",
   "execution_count": 7,
   "metadata": {},
   "outputs": [
    {
     "name": "stdout",
     "output_type": "stream",
     "text": [
      "9\n",
      "7\n",
      "5\n",
      "1\n"
     ]
    }
   ],
   "source": [
    "#odd digits\n",
    "n=145789\n",
    "res=0\n",
    "while n:\n",
    "    ld=n%10\n",
    "    if ld%2!=0:\n",
    "        res=ld\n",
    "        print(res)\n",
    "    n=n//10\n",
    "    "
   ]
  },
  {
   "cell_type": "code",
   "execution_count": 10,
   "metadata": {},
   "outputs": [
    {
     "name": "stdout",
     "output_type": "stream",
     "text": [
      "1\n",
      "2\n",
      "3\n",
      "4\n",
      "5\n"
     ]
    }
   ],
   "source": [
    "# sequence of values\n",
    "m=1\n",
    "n=5\n",
    "while m<=n:\n",
    "    print(m)\n",
    "    m+=1"
   ]
  },
  {
   "cell_type": "code",
   "execution_count": 16,
   "metadata": {},
   "outputs": [
    {
     "name": "stdout",
     "output_type": "stream",
     "text": [
      "1\n",
      "3\n",
      "6\n",
      "10\n",
      "15\n"
     ]
    }
   ],
   "source": [
    "#sum of digits\n",
    "m=1\n",
    "n=5\n",
    "res=0\n",
    "while m<=n:\n",
    "    res+=m\n",
    "    print(res)\n",
    "    m+=1"
   ]
  }
 ],
 "metadata": {
  "kernelspec": {
   "display_name": "Python 3",
   "language": "python",
   "name": "python3"
  },
  "language_info": {
   "codemirror_mode": {
    "name": "ipython",
    "version": 3
   },
   "file_extension": ".py",
   "mimetype": "text/x-python",
   "name": "python",
   "nbconvert_exporter": "python",
   "pygments_lexer": "ipython3",
   "version": "3.11.4"
  },
  "orig_nbformat": 4
 },
 "nbformat": 4,
 "nbformat_minor": 2
}
