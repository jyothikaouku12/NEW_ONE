{
 "cells": [
  {
   "cell_type": "code",
   "execution_count": 1,
   "metadata": {},
   "outputs": [
    {
     "name": "stdout",
     "output_type": "stream",
     "text": [
      "16\n"
     ]
    }
   ],
   "source": [
    "#WAP to find the smallest of two numbers.\n",
    "n=16\n",
    "m=25\n",
    "if n<m:\n",
    "    print(n)\n",
    "else:\n",
    "    print(m)"
   ]
  },
  {
   "cell_type": "code",
   "execution_count": null,
   "metadata": {},
   "outputs": [],
   "source": [
    "#WAP to check whether the given number is even or odd. If it is even then make \n",
    "#it as an add number, if it is an odd number then make it as even number.\n",
    "n=25\n"
   ]
  },
  {
   "cell_type": "code",
   "execution_count": 3,
   "metadata": {},
   "outputs": [
    {
     "name": "stdout",
     "output_type": "stream",
     "text": [
      "343\n"
     ]
    }
   ],
   "source": [
    "#WAP to check whether the given number is divisible by 3 or not if yes, print the number or else print the cube of the numbers.\n",
    "n=7\n",
    "if n%3==0:\n",
    "    print(n)\n",
    "else:\n",
    "    print(n**3)\n"
   ]
  },
  {
   "cell_type": "code",
   "execution_count": 6,
   "metadata": {},
   "outputs": [
    {
     "name": "stdout",
     "output_type": "stream",
     "text": [
      "983\n"
     ]
    }
   ],
   "source": [
    "#WAP to check whether the given input is divisible by 3 and 5. If yes print the actual number or else print string of that number.\n",
    "n=983\n",
    "if n%3==0 and n%5==0:\n",
    "    print(n)\n",
    "else:\n",
    "    print(str(n))\n",
    "\n"
   ]
  },
  {
   "cell_type": "code",
   "execution_count": 7,
   "metadata": {},
   "outputs": [
    {
     "name": "stdout",
     "output_type": "stream",
     "text": [
      "25\n"
     ]
    }
   ],
   "source": [
    "#WAP to check whether the given number lies between 1 to 19, if it is true square that number or else false cube that number and display the number.\n",
    "n=5\n",
    "if 1<=n<=19:\n",
    "    print(n**2)\n",
    "else:\n",
    "    print(n**3)"
   ]
  },
  {
   "cell_type": "code",
   "execution_count": 9,
   "metadata": {},
   "outputs": [
    {
     "name": "stdout",
     "output_type": "stream",
     "text": [
      "PASS\n"
     ]
    }
   ],
   "source": [
    "#WAP to check whether the student has passed or failed. If the student got more \n",
    "#than 40 marks, print ‘PASS’ along with those marks, if it is not printed ‘FAIL’ along with those marks.\n",
    "marks=45\n",
    "if marks>40:\n",
    "    print(\"PASS\")\n",
    "else:\n",
    "    print(\"FAIL\")\n",
    "\n",
    "\n"
   ]
  },
  {
   "cell_type": "code",
   "execution_count": 2,
   "metadata": {},
   "outputs": [
    {
     "name": "stdout",
     "output_type": "stream",
     "text": [
      "2\n"
     ]
    }
   ],
   "source": [
    "#WAP to check whether a given value is even and in range of 47 to 58 and not in 0 or odd. if condition is True, to perform display the ascii character. or else to \n",
    "#perform floor division with 5 and display it.\n",
    "n=50\n",
    "if 47<=n<58 and n%2==0:\n",
    "    print(chr(n))\n",
    "else:\n",
    "    print(n//5)\n",
    "\n"
   ]
  },
  {
   "cell_type": "code",
   "execution_count": 6,
   "metadata": {},
   "outputs": [
    {
     "name": "stdout",
     "output_type": "stream",
     "text": [
      "{98: 'b'}\n"
     ]
    }
   ],
   "source": [
    "#WAP to check whether a given value is less than 125 and in between 47 to 125 or not. if condition is True, to perform store the given value as key and value as a \n",
    "# character into the dict or else to append the value in list and display it.\n",
    "n={}\n",
    "s=98\n",
    "if 47<s<125:\n",
    "    print({s:chr(s)})\n",
    "else:\n",
    "    n|=s\n",
    "\n",
    "\n",
    "\n"
   ]
  },
  {
   "cell_type": "code",
   "execution_count": null,
   "metadata": {},
   "outputs": [],
   "source": [
    "# WAP to check whether a given character is in the alphabet or not. if alphabet, display the alphabet with character or else display the not alphabet with character.\n",
    "s='a'\n",
    "if 'a'<=s<='z' or 'A'<=s<='Z':\n"
   ]
  },
  {
   "cell_type": "code",
   "execution_count": 8,
   "metadata": {},
   "outputs": [
    {
     "name": "stdout",
     "output_type": "stream",
     "text": [
      "A\n"
     ]
    }
   ],
   "source": [
    "#WAP to check whether a given character is uppercase or other character. if uppercase, display the uppercase with character or else display the other \n",
    "#character with character.\n",
    "ch='A'\n",
    "if 'A'<=ch<='Z':\n",
    "    print(ch)\n",
    "else:\n",
    "    st='p'\n",
    "    print(k)"
   ]
  },
  {
   "cell_type": "code",
   "execution_count": 7,
   "metadata": {},
   "outputs": [
    {
     "name": "stdout",
     "output_type": "stream",
     "text": [
      "a\n"
     ]
    }
   ],
   "source": [
    "#WAP to check whether a given character is lowercase or other character. if lowercase, display the lowercase with character or else display the other\n",
    "#character with character.\n",
    "ch='a'\n",
    "if 'a'<=ch<='z':\n",
    "    print(ch)\n",
    "else:\n",
    "    st='k'\n",
    "    print(st)"
   ]
  },
  {
   "cell_type": "code",
   "execution_count": 9,
   "metadata": {},
   "outputs": [
    {
     "name": "stdout",
     "output_type": "stream",
     "text": [
      "a\n"
     ]
    }
   ],
   "source": [
    "#WAP to check whether a given character is uppercase or other character. if uppercase, convert to lowercase .or else display the ascii number\n",
    "ch='A'  \n",
    "if 'A'<=ch<='Z':\n",
    "    print(ch.lower())\n",
    "else:\n",
    "    print(ord(ch))"
   ]
  },
  {
   "cell_type": "code",
   "execution_count": 10,
   "metadata": {},
   "outputs": [
    {
     "name": "stdout",
     "output_type": "stream",
     "text": [
      "A\n"
     ]
    }
   ],
   "source": [
    "#WAP to check whether the given character is in lowercase or uppercase. If it is in lowercase, convert it into uppercase, or else it is in uppercase and convert it \n",
    "#into lowercase. Display the value.\n",
    "ch='a'  \n",
    "if 'a'<=ch<='z':\n",
    "    print(ch.upper())\n",
    "else:\n",
    "    k=ch.lower()\n",
    "    print(ord(k))"
   ]
  },
  {
   "cell_type": "code",
   "execution_count": null,
   "metadata": {},
   "outputs": [],
   "source": [
    "#WAP to check whether the given string of the first character is a special symbol or not. If a special symbol, to extract and display the middle character or else to \n",
    "#reverse the string and display the half of the string."
   ]
  },
  {
   "cell_type": "code",
   "execution_count": 11,
   "metadata": {},
   "outputs": [
    {
     "name": "stdout",
     "output_type": "stream",
     "text": [
      "VOWEL A\n"
     ]
    }
   ],
   "source": [
    "#WAP to check whether the input character is a vowel or not. If it is vowel print ‘VOWEL’ along with that character, if it is not just print ‘CONSONANT’.\n",
    "\n",
    "ch='A'\n",
    "if ch in 'AEIOUaeiou':\n",
    "    print(\"VOWEL\",ch)\n",
    "else:\n",
    "    print(\"CONSONANT\")"
   ]
  },
  {
   "cell_type": "code",
   "execution_count": 27,
   "metadata": {},
   "outputs": [
    {
     "name": "stdout",
     "output_type": "stream",
     "text": [
      "98\n"
     ]
    }
   ],
   "source": [
    "#WAP to check whether a given character is a vowel or consonant. if vowel, to print the next character of a given character or else print previous characters\n",
    "ch='a'  \n",
    "if ch in 'aeiouAEIOU':\n",
    "    \n",
    "    print(ord(ch)+1)\n",
    "else:\n",
    "    print(ord(ch)-1)\n",
    "\n"
   ]
  },
  {
   "cell_type": "code",
   "execution_count": null,
   "metadata": {},
   "outputs": [],
   "source": [
    "#WAP to check whether a given string of first character is alphabet or notif the alphabet prints, reverse the string or else print the middle character"
   ]
  },
  {
   "cell_type": "code",
   "execution_count": null,
   "metadata": {},
   "outputs": [],
   "source": []
  },
  {
   "cell_type": "code",
   "execution_count": null,
   "metadata": {},
   "outputs": [],
   "source": []
  }
 ],
 "metadata": {
  "kernelspec": {
   "display_name": "Python 3",
   "language": "python",
   "name": "python3"
  },
  "language_info": {
   "codemirror_mode": {
    "name": "ipython",
    "version": 3
   },
   "file_extension": ".py",
   "mimetype": "text/x-python",
   "name": "python",
   "nbconvert_exporter": "python",
   "pygments_lexer": "ipython3",
   "version": "3.11.4"
  },
  "orig_nbformat": 4
 },
 "nbformat": 4,
 "nbformat_minor": 2
}
