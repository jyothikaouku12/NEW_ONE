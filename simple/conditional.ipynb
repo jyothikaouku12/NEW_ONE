{
 "cells": [
  {
   "cell_type": "code",
   "execution_count": 1,
   "metadata": {},
   "outputs": [
    {
     "name": "stdout",
     "output_type": "stream",
     "text": [
      "16\n"
     ]
    }
   ],
   "source": [
    "#WAP to find the smallest of two numbers.\n",
    "n=16\n",
    "m=25\n",
    "if n<m:\n",
    "    print(n)\n",
    "else:\n",
    "    print(m)"
   ]
  },
  {
   "cell_type": "code",
   "execution_count": 33,
   "metadata": {},
   "outputs": [
    {
     "name": "stdout",
     "output_type": "stream",
     "text": [
      "21\n"
     ]
    }
   ],
   "source": [
    "#WAP to check whether the given number is even or odd. If it is even then make \n",
    "#it as an add number, if it is an odd number then make it as even number.\n",
    "n=20\n",
    "if n%2==0:\n",
    "    print(n+1)\n",
    "else:\n",
    "    print(n-1)\n"
   ]
  },
  {
   "cell_type": "code",
   "execution_count": 3,
   "metadata": {},
   "outputs": [
    {
     "name": "stdout",
     "output_type": "stream",
     "text": [
      "343\n"
     ]
    }
   ],
   "source": [
    "#WAP to check whether the given number is divisible by 3 or not if yes, print the number or else print the cube of the numbers.\n",
    "n=7\n",
    "if n%3==0:\n",
    "    print(n)\n",
    "else:\n",
    "    print(n**3)\n"
   ]
  },
  {
   "cell_type": "code",
   "execution_count": 6,
   "metadata": {},
   "outputs": [
    {
     "name": "stdout",
     "output_type": "stream",
     "text": [
      "983\n"
     ]
    }
   ],
   "source": [
    "#WAP to check whether the given input is divisible by 3 and 5. If yes print the actual number or else print string of that number.\n",
    "n=983\n",
    "if n%3==0 and n%5==0:\n",
    "    print(n)\n",
    "else:\n",
    "    print(str(n))\n",
    "\n"
   ]
  },
  {
   "cell_type": "code",
   "execution_count": 7,
   "metadata": {},
   "outputs": [
    {
     "name": "stdout",
     "output_type": "stream",
     "text": [
      "25\n"
     ]
    }
   ],
   "source": [
    "#WAP to check whether the given number lies between 1 to 19, if it is true square that number or else false cube that number and display the number.\n",
    "n=5\n",
    "if 1<=n<=19:\n",
    "    print(n**2)\n",
    "else:\n",
    "    print(n**3)"
   ]
  },
  {
   "cell_type": "code",
   "execution_count": 9,
   "metadata": {},
   "outputs": [
    {
     "name": "stdout",
     "output_type": "stream",
     "text": [
      "PASS\n"
     ]
    }
   ],
   "source": [
    "#WAP to check whether the student has passed or failed. If the student got more \n",
    "#than 40 marks, print ‘PASS’ along with those marks, if it is not printed ‘FAIL’ along with those marks.\n",
    "marks=45\n",
    "if marks>40:\n",
    "    print(\"PASS\")\n",
    "else:\n",
    "    print(\"FAIL\")\n",
    "\n",
    "\n"
   ]
  },
  {
   "cell_type": "code",
   "execution_count": 2,
   "metadata": {},
   "outputs": [
    {
     "name": "stdout",
     "output_type": "stream",
     "text": [
      "2\n"
     ]
    }
   ],
   "source": [
    "#WAP to check whether a given value is even and in range of 47 to 58 and not in 0 or odd. if condition is True, to perform display the ascii character. or else to \n",
    "#perform floor division with 5 and display it.\n",
    "n=50\n",
    "if 47<=n<58 and n%2==0:\n",
    "    print(chr(n))\n",
    "else:\n",
    "    print(n//5)\n",
    "\n"
   ]
  },
  {
   "cell_type": "code",
   "execution_count": 6,
   "metadata": {},
   "outputs": [
    {
     "name": "stdout",
     "output_type": "stream",
     "text": [
      "{98: 'b'}\n"
     ]
    }
   ],
   "source": [
    "#WAP to check whether a given value is less than 125 and in between 47 to 125 or not. if condition is True, to perform store the given value as key and value as a \n",
    "# character into the dict or else to append the value in list and display it.\n",
    "n={}\n",
    "s=98\n",
    "if 47<s<125:\n",
    "    print({s:chr(s)})\n",
    "else:\n",
    "    n|=s\n",
    "\n",
    "\n",
    "\n"
   ]
  },
  {
   "cell_type": "code",
   "execution_count": 32,
   "metadata": {},
   "outputs": [
    {
     "name": "stdout",
     "output_type": "stream",
     "text": [
      "a is alphabet\n"
     ]
    }
   ],
   "source": [
    "# WAP to check whether a given character is in the alphabet or not. if alphabet, display the alphabet with character or else display the not alphabet with character.\n",
    "s='a'\n",
    "if 'a'<=s<='z' or 'A'<=s<='Z':\n",
    "    print(s,\"is alphabet\")\n",
    "else:\n",
    "    print(s,\"is not alphabet\")\n"
   ]
  },
  {
   "cell_type": "code",
   "execution_count": 8,
   "metadata": {},
   "outputs": [
    {
     "name": "stdout",
     "output_type": "stream",
     "text": [
      "A\n"
     ]
    }
   ],
   "source": [
    "#WAP to check whether a given character is uppercase or other character. if uppercase, display the uppercase with character or else display the other \n",
    "#character with character.\n",
    "ch='A'\n",
    "if 'A'<=ch<='Z':\n",
    "    print(ch)\n",
    "else:\n",
    "    st='p'\n",
    "    print(k)"
   ]
  },
  {
   "cell_type": "code",
   "execution_count": 7,
   "metadata": {},
   "outputs": [
    {
     "name": "stdout",
     "output_type": "stream",
     "text": [
      "a\n"
     ]
    }
   ],
   "source": [
    "#WAP to check whether a given character is lowercase or other character. if lowercase, display the lowercase with character or else display the other\n",
    "#character with character.\n",
    "ch='a'\n",
    "if 'a'<=ch<='z':\n",
    "    print(ch)\n",
    "else:\n",
    "    st='k'\n",
    "    print(st)"
   ]
  },
  {
   "cell_type": "code",
   "execution_count": 9,
   "metadata": {},
   "outputs": [
    {
     "name": "stdout",
     "output_type": "stream",
     "text": [
      "a\n"
     ]
    }
   ],
   "source": [
    "#WAP to check whether a given character is uppercase or other character. if uppercase, convert to lowercase .or else display the ascii number\n",
    "ch='A'  \n",
    "if 'A'<=ch<='Z':\n",
    "    print(ch.lower())\n",
    "else:\n",
    "    print(ord(ch))"
   ]
  },
  {
   "cell_type": "code",
   "execution_count": 10,
   "metadata": {},
   "outputs": [
    {
     "name": "stdout",
     "output_type": "stream",
     "text": [
      "A\n"
     ]
    }
   ],
   "source": [
    "#WAP to check whether the given character is in lowercase or uppercase. If it is in lowercase, convert it into uppercase, or else it is in uppercase and convert it \n",
    "#into lowercase. Display the value.\n",
    "ch='a'  \n",
    "if 'a'<=ch<='z':\n",
    "    print(ch.upper())\n",
    "else:\n",
    "    k=ch.lower()\n",
    "    print(ord(k))"
   ]
  },
  {
   "cell_type": "code",
   "execution_count": null,
   "metadata": {},
   "outputs": [],
   "source": [
    "#WAP to check whether the given string of the first character is a special symbol or not. If a special symbol, to extract and display the middle character or else to \n",
    "#reverse the string and display the half of the string."
   ]
  },
  {
   "cell_type": "code",
   "execution_count": 11,
   "metadata": {},
   "outputs": [
    {
     "name": "stdout",
     "output_type": "stream",
     "text": [
      "VOWEL A\n"
     ]
    }
   ],
   "source": [
    "#WAP to check whether the input character is a vowel or not. If it is vowel print ‘VOWEL’ along with that character, if it is not just print ‘CONSONANT’.\n",
    "\n",
    "ch='A'\n",
    "if ch in 'AEIOUaeiou':\n",
    "    print(\"VOWEL\",ch)\n",
    "else:\n",
    "    print(\"CONSONANT\")"
   ]
  },
  {
   "cell_type": "code",
   "execution_count": 27,
   "metadata": {},
   "outputs": [
    {
     "name": "stdout",
     "output_type": "stream",
     "text": [
      "98\n"
     ]
    }
   ],
   "source": [
    "#WAP to check whether a given character is a vowel or consonant. if vowel, to print the next character of a given character or else print previous characters\n",
    "ch='a'  \n",
    "if ch in 'aeiouAEIOU':\n",
    "    \n",
    "    print(ord(ch)+1)\n",
    "else:\n",
    "    print(ord(ch)-1)\n",
    "\n"
   ]
  },
  {
   "cell_type": "code",
   "execution_count": 3,
   "metadata": {},
   "outputs": [
    {
     "name": "stdout",
     "output_type": "stream",
     "text": [
      "AKIHTOYJ\n"
     ]
    }
   ],
   "source": [
    "#WAP to check whether a given string of first character is alphabet or not if the alphabet prints, reverse the string or else print the middle character\n",
    "n='JYOTHIKA'\n",
    "if 'A'<=n[0]<='Z':\n",
    "    print(n[::-1])\n",
    "else:\n",
    "    print(len(n)//2)\n"
   ]
  },
  {
   "cell_type": "code",
   "execution_count": 4,
   "metadata": {},
   "outputs": [
    {
     "name": "stdout",
     "output_type": "stream",
     "text": [
      "A\n"
     ]
    }
   ],
   "source": [
    "#WAP to check whether the given input character is uppercase or lowercase. If the input character is upper case convert into lower case and vice versa.\n",
    "ch='a'\n",
    "if 'a'<=ch<='z':\n",
    "    print(ch.upper())\n",
    "else:\n",
    "    print(ch.upper())\n",
    "\n"
   ]
  },
  {
   "cell_type": "code",
   "execution_count": 6,
   "metadata": {},
   "outputs": [
    {
     "name": "stdout",
     "output_type": "stream",
     "text": [
      "thika\n"
     ]
    }
   ],
   "source": [
    "# WAP to check whether a given string is less than 3 characters, to print the entire string otherwise to print after third positions to the remaining string\n",
    "ch='jyothika'\n",
    "if len(ch)<3:\n",
    "    print(ch)\n",
    "else:\n",
    "    print(ch[3::])\n"
   ]
  },
  {
   "cell_type": "code",
   "execution_count": 7,
   "metadata": {},
   "outputs": [
    {
     "name": "stdout",
     "output_type": "stream",
     "text": [
      "jyothikabye\n"
     ]
    }
   ],
   "source": [
    "#WAP to check whether a given length of the string is even or not. if even, to append the new string called \"bye\" or else print the first and last characters.\n",
    "ch='jyothika'\n",
    "if len(ch)%2==0:\n",
    "    res=ch+'bye'\n",
    "    print(res)\n",
    "else:\n",
    "    print(ch[0:7:6])\n",
    "\n",
    "\n"
   ]
  },
  {
   "cell_type": "code",
   "execution_count": 12,
   "metadata": {},
   "outputs": [
    {
     "name": "stdout",
     "output_type": "stream",
     "text": [
      "yothik\n"
     ]
    }
   ],
   "source": [
    "# WAP to check whether a given length of the string is odd or not. if odd, to append the new string(\"Haii\") from the starting of the given string, or else to avoid the \n",
    "#starting character and ending character of the givenstring and to display the remaining characters.\n",
    "ch='jyothika'\n",
    "if len(ch)%2!=0:\n",
    "    res=ch+'haii'\n",
    "    print(res)\n",
    "else:\n",
    "    print(ch[1:7])\n",
    "\n",
    "\n"
   ]
  },
  {
   "cell_type": "code",
   "execution_count": null,
   "metadata": {},
   "outputs": [],
   "source": [
    "#WAP to check whether the last of the given string is a special character or not, if the special character prints reverse the string except the last character or else to \n",
    "#check if the length of the string is odd or not, if odd to extract the middle character to the end of the string.\n",
    "ch='JYOTHIK'\n",
    "if not('A'<=ch<='Z' or 'a'<=ch<='z' or '0'<=ch<='9'):\n",
    "    print(ch[-1:-7:-1])\n",
    "else:\n",
    "\n",
    "\n",
    "\n",
    "\n"
   ]
  },
  {
   "cell_type": "code",
   "execution_count": 26,
   "metadata": {},
   "outputs": [
    {
     "name": "stdout",
     "output_type": "stream",
     "text": [
      "leap year\n"
     ]
    }
   ],
   "source": [
    "# WAP to check whether a given year is a leap year or not. if leap year, print leap year or else not a leap year.\n",
    "ch=2024\n",
    "if ch%4==0:\n",
    "    print(\"leap year\")\n",
    "else:\n",
    "    print(\"not a leap year\")"
   ]
  },
  {
   "cell_type": "code",
   "execution_count": null,
   "metadata": {},
   "outputs": [],
   "source": [
    "#WAP to find out the greatest of two numbers and display the greatest number. if the greatest number, display the greatest message with value.\n",
    "n=\n",
    "\n",
    "\n",
    "\n"
   ]
  },
  {
   "cell_type": "code",
   "execution_count": 28,
   "metadata": {},
   "outputs": [
    {
     "name": "stdout",
     "output_type": "stream",
     "text": [
      "ststst\n"
     ]
    }
   ],
   "source": [
    "# WAP whether a given string, if string length is more than 2, then it displays a new \n",
    "#string with the first and last characters switched, otherwise the display the 3 copies of given string.\n",
    "s=\"st\"\n",
    "if len(s)>2:\n",
    "    res=s[-1]+s[1:len(s)-1]+s[0]\n",
    "    print(res)\n",
    "else:\n",
    "    print(s*3)\n"
   ]
  },
  {
   "cell_type": "code",
   "execution_count": 31,
   "metadata": {},
   "outputs": [
    {
     "name": "stdout",
     "output_type": "stream",
     "text": [
      "[10.0, 'jyo', '@', 20, -41]\n"
     ]
    }
   ],
   "source": [
    "# WAP to check whether a given value is a list and first and last values should be integer if condition is satisfied first value is True division by 3 and perform the \n",
    "#bitwise not for last value and those result values are stored in same positions in given list or else, to perform length of the collection power by 2 and display value.\n",
    "s=[30,'jyo','@',20,40]\n",
    "if type(s)==list:\n",
    "    k=s[0]/3\n",
    "    p=~s[4]\n",
    "    s[0]=k\n",
    "    s[4]=p\n",
    "    print(s)\n",
    "else:\n",
    "    print(len(s)**2)"
   ]
  },
  {
   "cell_type": "code",
   "execution_count": 45,
   "metadata": {},
   "outputs": [
    {
     "name": "stdout",
     "output_type": "stream",
     "text": [
      "jyotojkika\n"
     ]
    }
   ],
   "source": [
    "# WAP to check whether a given value is a string or not and length of the value should be more than 7, if condition is satisfied to append the new string in the \n",
    "#middle of the given string or else to perform the replications with 3 and display the result.\n",
    "s='jyothika'\n",
    "if type(s)==str and len(s)>7:\n",
    "    res=s[0:len(s)//2]+'ojk'+s[(len(s)//2)+1::]\n",
    "    print(res)\n",
    "else:\n",
    "    print(s*3)\n"
   ]
  },
  {
   "cell_type": "code",
   "execution_count": 77,
   "metadata": {},
   "outputs": [
    {
     "name": "stdout",
     "output_type": "stream",
     "text": [
      "A B E D\n"
     ]
    }
   ],
   "source": [
    "# WAP to check if the given string of first and second character should be sequence or not. if the sequence prints the first, second and last two characters, or else the \n",
    "#first half string is reversed and the remaining half string should be normal and display it.\n",
    "s='ABCDE'\n",
    "if ord(s[0])+1==ord(s[1]):\n",
    "    print(s[0],s[1],s[-1],s[-2])\n",
    "else:\n",
    "    k=s[-1:len(s)//2]+s[(len(s)//2)+1::]\n",
    "    print(k)\n",
    "\n",
    "\n"
   ]
  },
  {
   "cell_type": "code",
   "execution_count": 82,
   "metadata": {},
   "outputs": [
    {
     "name": "stdout",
     "output_type": "stream",
     "text": [
      "10\n"
     ]
    }
   ],
   "source": [
    "#WAP to check whether a given value is present inside the collection or not. If present, print the value or else print value is not found.\n",
    "s=[10,20,30,40,50,60]\n",
    "m=10\n",
    "if  m in s:\n",
    "    print(m)\n",
    "else:\n",
    "    print(\"value is not found\")"
   ]
  },
  {
   "cell_type": "code",
   "execution_count": 95,
   "metadata": {},
   "outputs": [
    {
     "name": "stdout",
     "output_type": "stream",
     "text": [
      "40\n"
     ]
    }
   ],
   "source": [
    "# WAP to check whether a given key is present in the dict or not. if key is present: display the value or else add key and new value inside the dict.\n",
    "s={'a':10,'b':20,'c':30,'f':40}\n",
    "key='f'\n",
    "if key in s:\n",
    "    res=s['f']\n",
    "    print(res)\n",
    "else:\n",
    "    s|={'e':89}\n",
    "    print(s)"
   ]
  },
  {
   "cell_type": "code",
   "execution_count": 96,
   "metadata": {},
   "outputs": [
    {
     "name": "stdout",
     "output_type": "stream",
     "text": [
      "{50, 20, 40, 10, 60, 30}\n"
     ]
    }
   ],
   "source": [
    "# WAP to check whether a given collection is set or not. if set, append the new value, or else eliminate the duplicate values in collection. final results should be set type.\n",
    "s={10,20,30,40,50,60}\n",
    "if type(s)==set:\n",
    "    s|{87,97}\n",
    "    print(s)\n",
    "else:\n",
    "    print(s)\n",
    "\n"
   ]
  },
  {
   "cell_type": "code",
   "execution_count": 97,
   "metadata": {},
   "outputs": [
    {
     "name": "stdout",
     "output_type": "stream",
     "text": [
      "18 eligible to vote\n"
     ]
    }
   ],
   "source": [
    "# WAP to read the age of a candidate and determine whether it is eligible for his/her own vote or not.it eligible print age and eligible messages or else print \n",
    "#not eligible.\n",
    "age=18\n",
    "if age>=18:\n",
    "    print(age,\"eligible to vote\")\n",
    "else:\n",
    "    print(\"not eligible to vote\")"
   ]
  },
  {
   "cell_type": "code",
   "execution_count": 100,
   "metadata": {},
   "outputs": [
    {
     "name": "stdout",
     "output_type": "stream",
     "text": [
      "0\n"
     ]
    }
   ],
   "source": [
    "#WAP to check whether a given value is even and in between 47 to 58 and not in 0 or odd. if condition is True, to perform display the ascii character or else to \n",
    "# perform floor division with 5 and display it.\n",
    "n=48\n",
    "if n>0 and 47<n<58 and n%2==0:\n",
    "    print(chr(n))\n",
    "else:\n",
    "    print(n//5)"
   ]
  },
  {
   "cell_type": "code",
   "execution_count": 113,
   "metadata": {},
   "outputs": [
    {
     "name": "stdout",
     "output_type": "stream",
     "text": [
      "MALAYALAM palindrome\n"
     ]
    }
   ],
   "source": [
    "# WAP to check whether the given string is palindrome or not if it is a palindrome \n",
    "#string palindrome along with the string if it is not a palindrome print not palindrome\n",
    "s='MALAYALAM'\n",
    "if s[1::]==s[1::]:\n",
    "    print(s,\"palindrome\")\n",
    "else:\n",
    "    print(\"not a palindrome\")\n",
    "\n"
   ]
  },
  {
   "cell_type": "code",
   "execution_count": 117,
   "metadata": {},
   "outputs": [
    {
     "name": "stdout",
     "output_type": "stream",
     "text": [
      "not a palindrome\n"
     ]
    }
   ],
   "source": [
    "#wAP to check whether a given number is palindrome or not. If palindrome, display the given value as a palindrome or else not a palindrome.\n",
    "ch='123456'\n",
    "if ch==ch[1::-1]:\n",
    "    print(ch,\"palindrome\")\n",
    "else:\n",
    "    print(\"not a palindrome\")"
   ]
  },
  {
   "cell_type": "code",
   "execution_count": 119,
   "metadata": {},
   "outputs": [
    {
     "name": "stdout",
     "output_type": "stream",
     "text": [
      "8 7 jyothika whether\n"
     ]
    }
   ],
   "source": [
    "# WAP to check length of both string collections are equal or not. if both are equal print the concat the two strings and display, or else if any one of the collection \n",
    "# not equal print both the collections with lengths\n",
    "s='jyothika'\n",
    "p='whether'\n",
    "if len(s)==len(p):\n",
    "    new=s+'pro'\n",
    "    kpop=p+'git'\n",
    "    print(new,kpop)\n",
    "else:\n",
    "    print(len(s),len(p),s,p)\n",
    "\n"
   ]
  },
  {
   "cell_type": "code",
   "execution_count": 122,
   "metadata": {},
   "outputs": [
    {
     "name": "stdout",
     "output_type": "stream",
     "text": [
      "2\n"
     ]
    }
   ],
   "source": [
    "# WAP to check whether both given values point to the same memory location or not. if it is true print the middle item of the second collection, or else if it is false \n",
    "#print the first item and last item of the first collection along with the memory address.\n",
    "x='1054'\n",
    "y='1054'\n",
    "if x is y:\n",
    "    print(len(y)//2)\n",
    "else:\n",
    "    print(x[0],x[3],id(x))\n",
    "\n",
    "\n"
   ]
  },
  {
   "cell_type": "code",
   "execution_count": 123,
   "metadata": {},
   "outputs": [
    {
     "name": "stdout",
     "output_type": "stream",
     "text": [
      "pacific oceanpacific oceanpacific ocean\n"
     ]
    }
   ],
   "source": [
    "# WAP to check whether a given string collection is more than ten, and the first + last character of the ascii values should be divisible by 5, if condition is satisfied \n",
    "#print first, middle, last characters ASCII values or else print the string three times.\n",
    "s='pacific ocean'\n",
    "if len(s)>10 and (ord(s[0])+ord(s[-1]))%5==0:\n",
    "    print(ord(s[0]),ord[s[-1]],ord(s[len(s)//2]))\n",
    "else:\n",
    "    print(s*3)\n",
    "\n",
    "\n",
    "\n"
   ]
  },
  {
   "cell_type": "code",
   "execution_count": null,
   "metadata": {},
   "outputs": [],
   "source": [
    "# WAP to check whether the middle of the item present in the list is string data type \n",
    "#or not if it is string print that list or else if it is not string then print that middle item.\n",
    "s=[10,20,30,40,50,60]\n",
    "m=len(s)//2\n",
    "if m in s and type(m)==str:\n",
    "    print()\n",
    "\n",
    "\n"
   ]
  },
  {
   "cell_type": "code",
   "execution_count": null,
   "metadata": {},
   "outputs": [],
   "source": [
    "#WAP Given a string, return a new string where the first and last characters have been exchanged.\n"
   ]
  },
  {
   "cell_type": "code",
   "execution_count": 2,
   "metadata": {},
   "outputs": [
    {
     "name": "stdout",
     "output_type": "stream",
     "text": [
      "20\n"
     ]
    }
   ],
   "source": [
    "#Write a program to find out such numbers which are divisible by 7 but are not a multiple of 5. Both the conditional is satisfied and print actual value. if one condition is not satisfied actual number is multiply by 4 and print result\n",
    "n=5\n",
    "if n%7==0 and n%5!=0:\n",
    "    print(n)\n",
    "else:\n",
    "    print(n*4)\n",
    "\n",
    "\n"
   ]
  },
  {
   "cell_type": "code",
   "execution_count": 4,
   "metadata": {},
   "outputs": [
    {
     "name": "stdout",
     "output_type": "stream",
     "text": [
      "15 20 140736432760040 140736432760200\n"
     ]
    }
   ],
   "source": [
    "#WAP to check whether two values are pointing to the same memory address or \n",
    "#not. If the same memory displays the address or else displays the two values addresses.\n",
    "n=15\n",
    "m=20\n",
    "if n is m :\n",
    "    print(id(n))\n",
    "else:\n",
    "    print(n,m,id(n),id(m))\n",
    "\n",
    "\n"
   ]
  },
  {
   "cell_type": "code",
   "execution_count": 8,
   "metadata": {},
   "outputs": [
    {
     "name": "stdout",
     "output_type": "stream",
     "text": [
      "@@@\n"
     ]
    }
   ],
   "source": [
    "# WAP to check whether a given input character is a special symbol or not if it is a special symbol then print that character three times and tell print that character 5 times.\n",
    "n='@'\n",
    "if not('a'<=n<='z'or 'A'<=n<='Z' or '0'<=n<='9'):\n",
    "    print(n*3)\n",
    "else:\n",
    "    print(n*5)\n",
    "\n",
    "\n",
    "\n"
   ]
  },
  {
   "cell_type": "code",
   "execution_count": null,
   "metadata": {},
   "outputs": [],
   "source": [
    "#WAP to check length of both string collections equal or not if it is equal print the connection of any one of the collections if it is not equal print both the collection.\n",
    "\n",
    "\n",
    "\n"
   ]
  },
  {
   "cell_type": "code",
   "execution_count": null,
   "metadata": {},
   "outputs": [],
   "source": []
  }
 ],
 "metadata": {
  "kernelspec": {
   "display_name": "Python 3",
   "language": "python",
   "name": "python3"
  },
  "language_info": {
   "codemirror_mode": {
    "name": "ipython",
    "version": 3
   },
   "file_extension": ".py",
   "mimetype": "text/x-python",
   "name": "python",
   "nbconvert_exporter": "python",
   "pygments_lexer": "ipython3",
   "version": "3.11.4"
  },
  "orig_nbformat": 4
 },
 "nbformat": 4,
 "nbformat_minor": 2
}
