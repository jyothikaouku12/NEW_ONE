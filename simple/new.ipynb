{
 "cells": [
  {
   "cell_type": "code",
   "execution_count": 3,
   "metadata": {},
   "outputs": [
    {
     "name": "stdout",
     "output_type": "stream",
     "text": [
      "140736873358568 140736873358120\n"
     ]
    }
   ],
   "source": [
    "# WAP  to check whether two values are pointing to same address or not if t the same memory display the adress or else display the two value adresses\n",
    "s=15\n",
    "p=1\n",
    "if s is p:\n",
    "    print(id(s))\n",
    "else:\n",
    "    print(id(s),id(p))"
   ]
  },
  {
   "cell_type": "code",
   "execution_count": 10,
   "metadata": {},
   "outputs": [
    {
     "name": "stdout",
     "output_type": "stream",
     "text": [
      "ayothikj\n"
     ]
    }
   ],
   "source": [
    "# WAP given a string return a new string whether the last and first characters have been exchanged.\n",
    "s='jyothika'\n",
    "if type(s)==str:\n",
    "    print(s[-1]+s[1:len(s)-1]+s[0])\n"
   ]
  },
  {
   "cell_type": "code",
   "execution_count": 6,
   "metadata": {},
   "outputs": [
    {
     "name": "stdout",
     "output_type": "stream",
     "text": [
      "10\n"
     ]
    }
   ],
   "source": [
    "# wap to check whether a guven value is present inside the collection or not if present print the value or else print the value not found\n",
    "s=[10,20,30,40,50]\n",
    "p=10\n",
    "if p in s:\n",
    "    print(p)\n",
    "else:\n",
    "    print(\"value not found\")"
   ]
  },
  {
   "cell_type": "code",
   "execution_count": 7,
   "metadata": {},
   "outputs": [
    {
     "name": "stdout",
     "output_type": "stream",
     "text": [
      "[10, 'a', 30, 40]\n"
     ]
    }
   ],
   "source": [
    ",# wap to check whether the middle of the item ptesent in the list is string datatype or not if it is string print the list or else if it is not string print the middle item,\n",
    "s=[10,'a',30,40]\n",
    "if s[len(s)//2] in s:\n",
    "    print(s)\n",
    "else:\n",
    "    print(s[len(s)//2])\n",
    "\n",
    "s\n"
   ]
  },
  {
   "cell_type": "code",
   "execution_count": 5,
   "metadata": {},
   "outputs": [
    {
     "name": "stdout",
     "output_type": "stream",
     "text": [
      "a\n"
     ]
    }
   ],
   "source": [
    "# wap to check whether both input variables pointing to the same memory adress or not if it is true print last item of the second collection if it is false print the first item of the first collection along with the memory adress.\n",
    "s='jyothika'\n",
    "p='jyothika'\n",
    "if s is p:\n",
    "    print(p[-1])\n",
    "else:\n",
    "    print(s[0])\n",
    "\n"
   ]
  }
 ],
 "metadata": {
  "kernelspec": {
   "display_name": "Python 3",
   "language": "python",
   "name": "python3"
  },
  "language_info": {
   "codemirror_mode": {
    "name": "ipython",
    "version": 3
   },
   "file_extension": ".py",
   "mimetype": "text/x-python",
   "name": "python",
   "nbconvert_exporter": "python",
   "pygments_lexer": "ipython3",
   "version": "3.11.4"
  },
  "orig_nbformat": 4
 },
 "nbformat": 4,
 "nbformat_minor": 2
}
